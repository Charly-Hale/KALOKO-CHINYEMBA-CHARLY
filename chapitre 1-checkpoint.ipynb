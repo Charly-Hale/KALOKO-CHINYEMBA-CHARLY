{
 "cells": [
  {
   "cell_type": "markdown",
   "id": "9254fb85-5036-4ba7-bb67-0d19099e6f4d",
   "metadata": {},
   "source": [
    "## importation de librairies"
   ]
  },
  {
   "cell_type": "code",
   "execution_count": 57,
   "id": "5557c3ce-3d89-414c-969a-a3f51849d412",
   "metadata": {},
   "outputs": [],
   "source": [
    "import numpy as np"
   ]
  },
  {
   "cell_type": "code",
   "execution_count": 58,
   "id": "ad199cd7-9218-4ae8-9979-36f5f622ce8d",
   "metadata": {},
   "outputs": [],
   "source": [
    "#create d'un tableau a 1D"
   ]
  },
  {
   "cell_type": "code",
   "execution_count": 59,
   "id": "4490d0a8-ee65-41c7-9810-683ab13b064e",
   "metadata": {},
   "outputs": [],
   "source": [
    "tab_1D = np.array([2, 4, 6, 8, 10, 12, 14])"
   ]
  },
  {
   "cell_type": "code",
   "execution_count": 60,
   "id": "29559e62-d29a-4d75-b795-8b9cd4f61f59",
   "metadata": {},
   "outputs": [
    {
     "data": {
      "text/plain": [
       "array([ 2,  4,  6,  8, 10, 12, 14])"
      ]
     },
     "execution_count": 60,
     "metadata": {},
     "output_type": "execute_result"
    }
   ],
   "source": [
    "tab_1D"
   ]
  },
  {
   "cell_type": "code",
   "execution_count": null,
   "id": "dca78029-0892-40ce-809a-3e84f6a6598e",
   "metadata": {},
   "outputs": [],
   "source": []
  },
  {
   "cell_type": "code",
   "execution_count": 61,
   "id": "f6956be3-e211-464b-a91f-6e5404ffcb33",
   "metadata": {},
   "outputs": [],
   "source": [
    "#creation tableau a 2D"
   ]
  },
  {
   "cell_type": "code",
   "execution_count": 62,
   "id": "db5cc1aa-885b-409b-bf15-b288c039a453",
   "metadata": {},
   "outputs": [],
   "source": [
    "tab_2D = np.array([[2, 4, 6, 8, 10, 12, 14],\n",
    "                   [2, 4, 6, 8, 10, 12, 14],\n",
    "                  ])"
   ]
  },
  {
   "cell_type": "code",
   "execution_count": 63,
   "id": "aa972b1c-5cc2-4013-8722-73765a7b8289",
   "metadata": {},
   "outputs": [
    {
     "name": "stdout",
     "output_type": "stream",
     "text": [
      "Dimension du tableau (2, 7)\n"
     ]
    }
   ],
   "source": [
    "print(\"Dimension du tableau\",tab_2D.shape)"
   ]
  },
  {
   "cell_type": "code",
   "execution_count": 64,
   "id": "513b854d-9ea2-4ae5-a790-0fbf05feb132",
   "metadata": {},
   "outputs": [
    {
     "name": "stdout",
     "output_type": "stream",
     "text": [
      "type du tableau <class 'numpy.ndarray'>\n"
     ]
    }
   ],
   "source": [
    "print(\"type du tableau\",type(tab_2D))"
   ]
  },
  {
   "cell_type": "code",
   "execution_count": 65,
   "id": "a6bb7ecd-0c0f-4957-9c00-dec6b9e6a294",
   "metadata": {},
   "outputs": [
    {
     "name": "stdout",
     "output_type": "stream",
     "text": [
      "voici le tableau [[ 2  4  6  8 10 12 14]\n",
      " [ 2  4  6  8 10 12 14]]\n"
     ]
    }
   ],
   "source": [
    "print(\"voici le tableau\",tab_2D)"
   ]
  },
  {
   "cell_type": "code",
   "execution_count": 66,
   "id": "30a63c5e-cc91-41e2-a8ea-39cfc8466055",
   "metadata": {},
   "outputs": [
    {
     "name": "stdout",
     "output_type": "stream",
     "text": [
      "Dimension du tableau (1, 3, 6)\n",
      "type du tableau <class 'numpy.ndarray'>\n",
      "voici le tableau [[[ 1  2  3  4  5  6]\n",
      "  [ 7  8  9 10 11 12]\n",
      "  [13 14 15 16 17 18]]]\n"
     ]
    }
   ],
   "source": [
    "# Création tableau 3D\n",
    "tab_3D = np.array([[\n",
    "    [1, 2, 3, 4, 5, 6], \n",
    "    [7, 8, 9, 10, 11, 12], \n",
    "    [13, 14, 15, 16, 17, 18]\n",
    "]])\n",
    "print(\"Dimension du tableau\",tab_3D.shape)\n",
    "print(\"type du tableau\",type(tab_3D))\n",
    "print(\"voici le tableau\",tab_3D)"
   ]
  },
  {
   "cell_type": "code",
   "execution_count": 67,
   "id": "cd535834-ab86-4606-b58e-013016f85b64",
   "metadata": {},
   "outputs": [
    {
     "name": "stdout",
     "output_type": "stream",
     "text": [
      "Dimension du tableau (1, 3, 6)\n",
      "type du tableau <class 'numpy.ndarray'>\n",
      "voici le tableau [[[ 1  2  3  4  5  6]\n",
      "  [ 7  8  9 10 11 12]\n",
      "  [13 14 15 16 17 18]]]\n"
     ]
    }
   ],
   "source": [
    "# Création tableau 4D\n",
    "tab_4D = np.array([[\n",
    "    [1, 2, 3, 4, 5, 6], \n",
    "    [7, 8, 9, 10, 11, 12], \n",
    "    [13, 14, 15, 16, 17, 18]\n",
    "]])\n",
    "\n",
    "print(\"Dimension du tableau\",tab_4D.shape)\n",
    "print(\"type du tableau\",type(tab_4D))\n",
    "print(\"voici le tableau\",tab_4D)"
   ]
  },
  {
   "cell_type": "code",
   "execution_count": 68,
   "id": "6b8a7314-95dc-4414-9cc2-f4d2236a898e",
   "metadata": {},
   "outputs": [],
   "source": [
    "a = np.array([\n",
    "    [2, 4, 6, 8],\n",
    "    [12, 15, 16, 17]\n",
    "])\n",
    "\n",
    "b = np.array([\n",
    "    [20, 40, 60, 80],\n",
    "    [250, 450, 650, 850],\n",
    "])\n"
   ]
  },
  {
   "cell_type": "code",
   "execution_count": 69,
   "id": "b68e5ce8-b5ed-4615-851b-215166c1310b",
   "metadata": {},
   "outputs": [
    {
     "name": "stdout",
     "output_type": "stream",
     "text": [
      "(2, 4)\n",
      "[[ 2  4  6  8]\n",
      " [12 15 16 17]]\n",
      "(2, 4)\n",
      "[[ 20  40  60  80]\n",
      " [250 450 650 850]]\n"
     ]
    }
   ],
   "source": [
    "print( a.shape)\n",
    "print(a)\n",
    "print(b.shape)\n",
    "print(b)\n",
    "\n",
    " "
   ]
  },
  {
   "cell_type": "code",
   "execution_count": 70,
   "id": "d9b83659-d31c-4a0d-b6c7-930cc75c188c",
   "metadata": {},
   "outputs": [
    {
     "name": "stdout",
     "output_type": "stream",
     "text": [
      "[[ 22  44  66  88]\n",
      " [262 465 666 867]]\n"
     ]
    }
   ],
   "source": [
    "#Addition \n",
    "print(a + b)"
   ]
  },
  {
   "cell_type": "code",
   "execution_count": 71,
   "id": "23222c54-38dc-4aa0-996a-357cb95a6be8",
   "metadata": {},
   "outputs": [
    {
     "name": "stdout",
     "output_type": "stream",
     "text": [
      "[[ -18  -36  -54  -72]\n",
      " [-238 -435 -634 -833]]\n"
     ]
    }
   ],
   "source": [
    "#Soustration \n",
    "print(a - b)"
   ]
  },
  {
   "cell_type": "code",
   "execution_count": 72,
   "id": "725448cb-f40a-4cf1-8b23-0fa828aae7b8",
   "metadata": {},
   "outputs": [
    {
     "name": "stdout",
     "output_type": "stream",
     "text": [
      "[[ 18  36  54  72]\n",
      " [238 435 634 833]]\n"
     ]
    }
   ],
   "source": [
    "print(b - a)"
   ]
  },
  {
   "cell_type": "code",
   "execution_count": 73,
   "id": "535602c9-8b9e-46bc-9447-9bceb1fd4caa",
   "metadata": {},
   "outputs": [],
   "source": [
    "#creation d'un dictionnaire\n",
    "Info_Etudiants = {\n",
    "    'Matricule': '20221235543',\n",
    "    'Nom':'KASONGO',\n",
    "    'Prenom': 'David',\n",
    "    'Age': 23,\n",
    "    'GPA':'A'\n",
    "}\n",
    "\n",
    "Info_Etudiants = {\n",
    "    'Matricule': '20221235543',\n",
    "    'Nom':'KASONGO',\n",
    "     'Prenom': 'David',\n",
    "    'Age': 23,\n",
    "    'GPA':'A'\n",
    "}"
   ]
  },
  {
   "cell_type": "code",
   "execution_count": 74,
   "id": "bceabfe8-aa7c-4946-840d-7ea68273c440",
   "metadata": {},
   "outputs": [
    {
     "data": {
      "text/plain": [
       "{'Matricule': '20221235543',\n",
       " 'Nom': 'KASONGO',\n",
       " 'Prenom': 'David',\n",
       " 'Age': 23,\n",
       " 'GPA': 'A'}"
      ]
     },
     "execution_count": 74,
     "metadata": {},
     "output_type": "execute_result"
    }
   ],
   "source": [
    "Info_Etudiants"
   ]
  },
  {
   "cell_type": "code",
   "execution_count": 75,
   "id": "249db7c7-d299-40b2-b4f3-5cc284baa15b",
   "metadata": {},
   "outputs": [
    {
     "name": "stdout",
     "output_type": "stream",
     "text": [
      "{'Matricule': '20221235543', 'Nom': 'KASONGO', 'Prenom': 'David', 'Age': 23, 'GPA': 'A'}\n"
     ]
    }
   ],
   "source": [
    "print(Info_Etudiants)"
   ]
  },
  {
   "cell_type": "code",
   "execution_count": 76,
   "id": "7a833f20-9513-4ce2-a0a2-ba774c56ccab",
   "metadata": {},
   "outputs": [],
   "source": [
    "Info_tous_etudiants_Bac_GL_IA = {\n",
    "'Matricule': ['20221235543','20221234512','202212347845','20221232354','202212344575'],\n",
    "'Nom': ['SAMPATWA','KATUMBA','KIMEYEMBO','KALOMBO','KALOBO'],\n",
    "'Prenom': ['Diev','Manasse','Ketsia','Charly','Justin'],\n",
    "'Age' : ['20','25','22','21','26'],\n",
    "'GPA': ['A','B','A','C','B']\n",
    "}"
   ]
  },
  {
   "cell_type": "code",
   "execution_count": 77,
   "id": "58a3e8cf-4fff-4832-ada5-91c59886d96b",
   "metadata": {},
   "outputs": [
    {
     "data": {
      "text/plain": [
       "{'Matricule': ['20221235543',\n",
       "  '20221234512',\n",
       "  '202212347845',\n",
       "  '20221232354',\n",
       "  '202212344575'],\n",
       " 'Nom': ['SAMPATWA', 'KATUMBA', 'KIMEYEMBO', 'KALOMBO', 'KALOBO'],\n",
       " 'Prenom': ['Diev', 'Manasse', 'Ketsia', 'Charly', 'Justin'],\n",
       " 'Age': ['20', '25', '22', '21', '26'],\n",
       " 'GPA': ['A', 'B', 'A', 'C', 'B']}"
      ]
     },
     "execution_count": 77,
     "metadata": {},
     "output_type": "execute_result"
    }
   ],
   "source": [
    "Info_tous_etudiants_Bac_GL_IA"
   ]
  },
  {
   "cell_type": "code",
   "execution_count": 78,
   "id": "94847cd1-18ae-4f83-b0a7-6aa5767629db",
   "metadata": {},
   "outputs": [
    {
     "name": "stdout",
     "output_type": "stream",
     "text": [
      "{'Matricule': ['20221235543', '20221234512', '202212347845', '20221232354', '202212344575'], 'Nom': ['SAMPATWA', 'KATUMBA', 'KIMEYEMBO', 'KALOMBO', 'KALOBO'], 'Prenom': ['Diev', 'Manasse', 'Ketsia', 'Charly', 'Justin'], 'Age': ['20', '25', '22', '21', '26'], 'GPA': ['A', 'B', 'A', 'C', 'B']}\n"
     ]
    }
   ],
   "source": [
    "print(Info_tous_etudiants_Bac_GL_IA)"
   ]
  },
  {
   "cell_type": "code",
   "execution_count": 79,
   "id": "f5f9f7d5-a963-44db-b788-65b73914a312",
   "metadata": {},
   "outputs": [],
   "source": [
    "#Importer Pandas \n",
    "import pandas as pd"
   ]
  },
  {
   "cell_type": "code",
   "execution_count": 80,
   "id": "42f097ff-d2ec-41a3-ab1a-ff770fabf457",
   "metadata": {},
   "outputs": [],
   "source": [
    "donnees_etudiants = pd.DataFrame(Info_tous_etudiants_Bac_GL_IA)"
   ]
  },
  {
   "cell_type": "code",
   "execution_count": 81,
   "id": "8567bc10-ffc5-47c3-95f8-c3c29fe7e288",
   "metadata": {},
   "outputs": [
    {
     "data": {
      "text/html": [
       "<div>\n",
       "<style scoped>\n",
       "    .dataframe tbody tr th:only-of-type {\n",
       "        vertical-align: middle;\n",
       "    }\n",
       "\n",
       "    .dataframe tbody tr th {\n",
       "        vertical-align: top;\n",
       "    }\n",
       "\n",
       "    .dataframe thead th {\n",
       "        text-align: right;\n",
       "    }\n",
       "</style>\n",
       "<table border=\"1\" class=\"dataframe\">\n",
       "  <thead>\n",
       "    <tr style=\"text-align: right;\">\n",
       "      <th></th>\n",
       "      <th>Matricule</th>\n",
       "      <th>Nom</th>\n",
       "      <th>Prenom</th>\n",
       "      <th>Age</th>\n",
       "      <th>GPA</th>\n",
       "    </tr>\n",
       "  </thead>\n",
       "  <tbody>\n",
       "    <tr>\n",
       "      <th>0</th>\n",
       "      <td>20221235543</td>\n",
       "      <td>SAMPATWA</td>\n",
       "      <td>Diev</td>\n",
       "      <td>20</td>\n",
       "      <td>A</td>\n",
       "    </tr>\n",
       "    <tr>\n",
       "      <th>1</th>\n",
       "      <td>20221234512</td>\n",
       "      <td>KATUMBA</td>\n",
       "      <td>Manasse</td>\n",
       "      <td>25</td>\n",
       "      <td>B</td>\n",
       "    </tr>\n",
       "    <tr>\n",
       "      <th>2</th>\n",
       "      <td>202212347845</td>\n",
       "      <td>KIMEYEMBO</td>\n",
       "      <td>Ketsia</td>\n",
       "      <td>22</td>\n",
       "      <td>A</td>\n",
       "    </tr>\n",
       "    <tr>\n",
       "      <th>3</th>\n",
       "      <td>20221232354</td>\n",
       "      <td>KALOMBO</td>\n",
       "      <td>Charly</td>\n",
       "      <td>21</td>\n",
       "      <td>C</td>\n",
       "    </tr>\n",
       "    <tr>\n",
       "      <th>4</th>\n",
       "      <td>202212344575</td>\n",
       "      <td>KALOBO</td>\n",
       "      <td>Justin</td>\n",
       "      <td>26</td>\n",
       "      <td>B</td>\n",
       "    </tr>\n",
       "  </tbody>\n",
       "</table>\n",
       "</div>"
      ],
      "text/plain": [
       "      Matricule        Nom   Prenom Age GPA\n",
       "0   20221235543   SAMPATWA     Diev  20   A\n",
       "1   20221234512    KATUMBA  Manasse  25   B\n",
       "2  202212347845  KIMEYEMBO   Ketsia  22   A\n",
       "3   20221232354    KALOMBO   Charly  21   C\n",
       "4  202212344575     KALOBO   Justin  26   B"
      ]
     },
     "execution_count": 81,
     "metadata": {},
     "output_type": "execute_result"
    }
   ],
   "source": [
    "donnees_etudiants"
   ]
  },
  {
   "cell_type": "code",
   "execution_count": 84,
   "id": "a76c07c5-3f56-415e-9103-53501947d24e",
   "metadata": {},
   "outputs": [
    {
     "data": {
      "text/plain": [
       "0     20221235543\n",
       "1     20221234512\n",
       "2    202212347845\n",
       "3     20221232354\n",
       "4    202212344575\n",
       "5     20221231523\n",
       "6     20221285612\n",
       "7    202212378945\n",
       "8     20221245654\n",
       "9    202212159575\n",
       "Name: Matricule, dtype: object"
      ]
     },
     "execution_count": 84,
     "metadata": {},
     "output_type": "execute_result"
    }
   ],
   "source": [
    "import pandas \n",
    "\n",
    "Info_10_Etudiants = {\n",
    "'Matricule': ['20221235543','20221234512','202212347845','20221232354','202212344575','20221231523','20221285612','202212378945','20221245654','202212159575' ],\n",
    "'Nom': ['SAMPATWA','KATUMBA','KIMEYEMBO','KALOMBO','KALOBO','KYUNGU','BANZA','KAYOKA','KITENGE','KIBWE' ],\n",
    "'Prenom': ['Diev','Manasse','Ketsia','Charly','Justin','Junior','Kyle','Miguel','Justine','David' ],\n",
    "'Age' : ['20','25','22','21','26','26','25','23','20','25' ],\n",
    "'GPA': ['A','B','A','C','A','A','A','A','A','A' ]\n",
    "}\n",
    "\n",
    "Donnees_etudiants =pd.DataFrame(Info_10_Etudiants)\n",
    "Donnees_etudiants['Matricule']"
   ]
  },
  {
   "cell_type": "code",
   "execution_count": 85,
   "id": "1bd13642-95f3-41d6-8224-83676070ba38",
   "metadata": {},
   "outputs": [
    {
     "data": {
      "text/html": [
       "<div>\n",
       "<style scoped>\n",
       "    .dataframe tbody tr th:only-of-type {\n",
       "        vertical-align: middle;\n",
       "    }\n",
       "\n",
       "    .dataframe tbody tr th {\n",
       "        vertical-align: top;\n",
       "    }\n",
       "\n",
       "    .dataframe thead th {\n",
       "        text-align: right;\n",
       "    }\n",
       "</style>\n",
       "<table border=\"1\" class=\"dataframe\">\n",
       "  <thead>\n",
       "    <tr style=\"text-align: right;\">\n",
       "      <th></th>\n",
       "      <th>Nom</th>\n",
       "    </tr>\n",
       "  </thead>\n",
       "  <tbody>\n",
       "    <tr>\n",
       "      <th>1</th>\n",
       "      <td>KATUMBA</td>\n",
       "    </tr>\n",
       "  </tbody>\n",
       "</table>\n",
       "</div>"
      ],
      "text/plain": [
       "       Nom\n",
       "1  KATUMBA"
      ]
     },
     "execution_count": 85,
     "metadata": {},
     "output_type": "execute_result"
    }
   ],
   "source": [
    "import pandas \n",
    "\n",
    "Info_10_Etudiants = {\n",
    "'Matricule': ['20221235543','20221234512','202212347845','20221232354','202212344575','20221231523','20221285612','202212378945','20221245654','202212159575' ],\n",
    "'Nom': ['SAMPATWA','KATUMBA','KIMEYEMBO','KALOMBO','KALOBO','KYUNGU','BANZA','KAYOKA','KITENGE','KIBWE' ],\n",
    "'Prenom': ['Diev','Manasse','Ketsia','Charly','Justin','Junior','Kyle','Miguel','Justine','David' ],\n",
    "'Age' : ['20','25','22','21','26','26','25','23','20','25' ],\n",
    "'GPA': ['A','B','A','C','A','A','A','A','A','A' ]\n",
    "}\n",
    "\n",
    "Donnees_etudiants =pd.DataFrame(Info_10_Etudiants)\n",
    "Donnees_etudiants.iloc[1:2,1:2]"
   ]
  },
  {
   "cell_type": "code",
   "execution_count": 95,
   "id": "17c95313-1096-4a15-85b5-570e2d03c3f2",
   "metadata": {},
   "outputs": [
    {
     "data": {
      "text/html": [
       "<div>\n",
       "<style scoped>\n",
       "    .dataframe tbody tr th:only-of-type {\n",
       "        vertical-align: middle;\n",
       "    }\n",
       "\n",
       "    .dataframe tbody tr th {\n",
       "        vertical-align: top;\n",
       "    }\n",
       "\n",
       "    .dataframe thead th {\n",
       "        text-align: right;\n",
       "    }\n",
       "</style>\n",
       "<table border=\"1\" class=\"dataframe\">\n",
       "  <thead>\n",
       "    <tr style=\"text-align: right;\">\n",
       "      <th></th>\n",
       "      <th>Matricule</th>\n",
       "      <th>Nom</th>\n",
       "      <th>prenom</th>\n",
       "      <th>Age</th>\n",
       "      <th>GPA</th>\n",
       "    </tr>\n",
       "  </thead>\n",
       "  <tbody>\n",
       "    <tr>\n",
       "      <th>0</th>\n",
       "      <td>2022020132</td>\n",
       "      <td>TSHAKWANDA</td>\n",
       "      <td>OBED</td>\n",
       "      <td>21</td>\n",
       "      <td>A</td>\n",
       "    </tr>\n",
       "    <tr>\n",
       "      <th>1</th>\n",
       "      <td>2022020501</td>\n",
       "      <td>KALOKO</td>\n",
       "      <td>CHARLY</td>\n",
       "      <td>19</td>\n",
       "      <td>A</td>\n",
       "    </tr>\n",
       "    <tr>\n",
       "      <th>2</th>\n",
       "      <td>202202035</td>\n",
       "      <td>KITENGE</td>\n",
       "      <td>ALEKA</td>\n",
       "      <td>13</td>\n",
       "      <td>A</td>\n",
       "    </tr>\n",
       "    <tr>\n",
       "      <th>3</th>\n",
       "      <td>202202064</td>\n",
       "      <td>KALUWE</td>\n",
       "      <td>BENFILS</td>\n",
       "      <td>42</td>\n",
       "      <td>A</td>\n",
       "    </tr>\n",
       "    <tr>\n",
       "      <th>4</th>\n",
       "      <td>2022020135</td>\n",
       "      <td>ILUNGA</td>\n",
       "      <td>CHARLLY</td>\n",
       "      <td>35</td>\n",
       "      <td>A</td>\n",
       "    </tr>\n",
       "    <tr>\n",
       "      <th>5</th>\n",
       "      <td>202202068</td>\n",
       "      <td>KALONJI</td>\n",
       "      <td>DJANEL</td>\n",
       "      <td>26</td>\n",
       "      <td>A</td>\n",
       "    </tr>\n",
       "    <tr>\n",
       "      <th>6</th>\n",
       "      <td>202202096</td>\n",
       "      <td>FEZA</td>\n",
       "      <td>CHRIS</td>\n",
       "      <td>19</td>\n",
       "      <td>A</td>\n",
       "    </tr>\n",
       "    <tr>\n",
       "      <th>7</th>\n",
       "      <td>2022202007</td>\n",
       "      <td>NKULU</td>\n",
       "      <td>DEBORAH</td>\n",
       "      <td>22</td>\n",
       "      <td>A</td>\n",
       "    </tr>\n",
       "    <tr>\n",
       "      <th>8</th>\n",
       "      <td>2022020810</td>\n",
       "      <td>KABONGO</td>\n",
       "      <td>KETTIA</td>\n",
       "      <td>24</td>\n",
       "      <td>A</td>\n",
       "    </tr>\n",
       "    <tr>\n",
       "      <th>9</th>\n",
       "      <td>202202068</td>\n",
       "      <td>MULAND</td>\n",
       "      <td>CERTIO</td>\n",
       "      <td>35</td>\n",
       "      <td>A</td>\n",
       "    </tr>\n",
       "  </tbody>\n",
       "</table>\n",
       "</div>"
      ],
      "text/plain": [
       "    Matricule         Nom   prenom Age GPA\n",
       "0  2022020132  TSHAKWANDA     OBED  21   A\n",
       "1  2022020501      KALOKO   CHARLY  19   A\n",
       "2   202202035     KITENGE    ALEKA  13   A\n",
       "3   202202064      KALUWE  BENFILS  42   A\n",
       "4  2022020135      ILUNGA  CHARLLY  35   A\n",
       "5   202202068     KALONJI   DJANEL  26   A\n",
       "6   202202096        FEZA    CHRIS  19   A\n",
       "7  2022202007       NKULU  DEBORAH  22   A\n",
       "8  2022020810     KABONGO   KETTIA  24   A\n",
       "9   202202068      MULAND   CERTIO  35   A"
      ]
     },
     "execution_count": 95,
     "metadata": {},
     "output_type": "execute_result"
    }
   ],
   "source": [
    "import pandas as pd\n",
    "\n",
    "Info_10_Etudiants={\n",
    "    'Matricule': ['2022020132','2022020501','202202035','202202064','2022020135',\n",
    "                 '202202068','202202096','2022202007','2022020810','202202068'],\n",
    "    'Nom':['TSHAKWANDA','KALOKO','KITENGE','KALUWE','ILUNGA',\n",
    "           'KALONJI','FEZA','NKULU','KABONGO','MULAND'],\n",
    "    'prenom':['OBED','CHARLY','ALEKA','BENFILS','CHARLLY','DJANEL','CHRIS','DEBORAH','KETTIA','CERTIO'],\n",
    "    'Age':['21','19','13','42','35','26','19','22','24','35'],\n",
    "    'GPA':['A','A','A','A','A','A','A','A','A','A']\n",
    "}\n",
    "\n",
    "Données_étudiants =pd.DataFrame(Info_10_Etudiants)\n",
    "\n",
    "Données_étudiants.iloc[:,:]"
   ]
  },
  {
   "cell_type": "code",
   "execution_count": 9,
   "id": "b9236320-c98d-4961-875e-d7e35b676a2e",
   "metadata": {},
   "outputs": [
    {
     "data": {
      "text/plain": [
       "<matplotlib.legend.Legend at 0x1d78c57f8b0>"
      ]
     },
     "execution_count": 9,
     "metadata": {},
     "output_type": "execute_result"
    },
    {
     "data": {
      "image/png": "[encoded data removed]",
      "text/plain": [
       "<Figure size 600x400 with 1 Axes>"
      ]
     },
     "metadata": {},
     "output_type": "display_data"
    }
   ],
   "source": [
    "import numpy as np\n",
    "import matplotlib.pyplot as plt\n",
    "\n",
    "x=np.linspace(0,2,50)\n",
    "fig, ax= plt.subplots(figsize=(6,4))\n",
    "ax.plot(x,x*2, label='double')\n",
    "ax.plot(x,x**2, label='carré de X')\n",
    "ax.plot(x,x**3, label='cube de X')\n",
    "ax.set_xlabel('Données de x')\n",
    "ax.set_ylabel('Données de y')\n",
    "plt.title('Données de linspace entre 0 et 2')\n",
    "ax.legend()"
   ]
  },
  {
   "cell_type": "code",
   "execution_count": 97,
   "id": "f0ec6b08-140b-4a9b-bb08-6a447f364b0c",
   "metadata": {},
   "outputs": [
    {
     "data": {
      "text/html": [
       "<div>\n",
       "<style scoped>\n",
       "    .dataframe tbody tr th:only-of-type {\n",
       "        vertical-align: middle;\n",
       "    }\n",
       "\n",
       "    .dataframe tbody tr th {\n",
       "        vertical-align: top;\n",
       "    }\n",
       "\n",
       "    .dataframe thead th {\n",
       "        text-align: right;\n",
       "    }\n",
       "</style>\n",
       "<table border=\"1\" class=\"dataframe\">\n",
       "  <thead>\n",
       "    <tr style=\"text-align: right;\">\n",
       "      <th></th>\n",
       "      <th>sepal_length</th>\n",
       "      <th>sepal_width</th>\n",
       "      <th>petal_length</th>\n",
       "      <th>petal_width</th>\n",
       "      <th>species</th>\n",
       "    </tr>\n",
       "  </thead>\n",
       "  <tbody>\n",
       "    <tr>\n",
       "      <th>0</th>\n",
       "      <td>5.1</td>\n",
       "      <td>3.5</td>\n",
       "      <td>1.4</td>\n",
       "      <td>0.2</td>\n",
       "      <td>setosa</td>\n",
       "    </tr>\n",
       "    <tr>\n",
       "      <th>1</th>\n",
       "      <td>4.9</td>\n",
       "      <td>3.0</td>\n",
       "      <td>1.4</td>\n",
       "      <td>0.2</td>\n",
       "      <td>setosa</td>\n",
       "    </tr>\n",
       "    <tr>\n",
       "      <th>2</th>\n",
       "      <td>4.7</td>\n",
       "      <td>3.2</td>\n",
       "      <td>1.3</td>\n",
       "      <td>0.2</td>\n",
       "      <td>setosa</td>\n",
       "    </tr>\n",
       "    <tr>\n",
       "      <th>3</th>\n",
       "      <td>4.6</td>\n",
       "      <td>3.1</td>\n",
       "      <td>1.5</td>\n",
       "      <td>0.2</td>\n",
       "      <td>setosa</td>\n",
       "    </tr>\n",
       "    <tr>\n",
       "      <th>4</th>\n",
       "      <td>5.0</td>\n",
       "      <td>3.6</td>\n",
       "      <td>1.4</td>\n",
       "      <td>0.2</td>\n",
       "      <td>setosa</td>\n",
       "    </tr>\n",
       "  </tbody>\n",
       "</table>\n",
       "</div>"
      ],
      "text/plain": [
       "   sepal_length  sepal_width  petal_length  petal_width species\n",
       "0           5.1          3.5           1.4          0.2  setosa\n",
       "1           4.9          3.0           1.4          0.2  setosa\n",
       "2           4.7          3.2           1.3          0.2  setosa\n",
       "3           4.6          3.1           1.5          0.2  setosa\n",
       "4           5.0          3.6           1.4          0.2  setosa"
      ]
     },
     "execution_count": 97,
     "metadata": {},
     "output_type": "execute_result"
    }
   ],
   "source": [
    "import seaborn as sns\n",
    "\n",
    "iris_data=sns.load_dataset('iris')\n",
    "iris_data.head()"
   ]
  },
  {
   "cell_type": "code",
   "execution_count": 98,
   "id": "f6531d80-9e55-4c31-861d-ce9328313e59",
   "metadata": {},
   "outputs": [
    {
     "name": "stdout",
     "output_type": "stream",
     "text": [
      "   sepal_length  sepal_width  petal_length  petal_width  species\n",
      "0           5.1          3.5           1.4          0.2        0\n",
      "1           4.9          3.0           1.4          0.2        0\n",
      "2           4.7          3.2           1.3          0.2        0\n",
      "3           4.6          3.1           1.5          0.2        0\n",
      "4           5.0          3.6           1.4          0.2        0\n",
      "\n",
      "\n",
      "\n",
      "[0 1 2]\n"
     ]
    }
   ],
   "source": [
    "import seaborn as sns\n",
    "\n",
    "iris_data=sns.load_dataset('iris')\n",
    "Mapping={'setosa':0,'versicolor':1,'virginica':2,}\n",
    "iris_data['species']=iris_data['species'].map(Mapping)\n",
    "print (iris_data.head())\n",
    "print()\n",
    "print()\n",
    "print()\n",
    "print (iris_data['species'].unique())\n",
    " "
   ]
  },
  {
   "cell_type": "markdown",
   "id": "35d6723b-9bcf-42c8-8826-12ba06360676",
   "metadata": {},
   "source": [
    "iris_data"
   ]
  },
  {
   "cell_type": "code",
   "execution_count": 100,
   "id": "9f3f7227-de65-4cd0-9300-abdc6c98c902",
   "metadata": {},
   "outputs": [
    {
     "data": {
      "text/plain": [
       "array([0, 1, 2])"
      ]
     },
     "execution_count": 100,
     "metadata": {},
     "output_type": "execute_result"
    }
   ],
   "source": [
    "iris_data['species'].unique()"
   ]
  },
  {
   "cell_type": "code",
   "execution_count": null,
   "id": "027d9eda-a972-424e-8278-a3b4f73cb710",
   "metadata": {},
   "outputs": [],
   "source": []
  }
 ],
 "metadata": {
  "kernelspec": {
   "display_name": "Python 3 (ipykernel)",
   "language": "python",
   "name": "python3"
  },
  "language_info": {
   "codemirror_mode": {
    "name": "ipython",
    "version": 3
   },
   "file_extension": ".py",
   "mimetype": "text/x-python",
   "name": "python",
   "nbconvert_exporter": "python",
   "pygments_lexer": "ipython3",
   "version": "3.10.16"
  }
 },
 "nbformat": 4,
 "nbformat_minor": 5
}
