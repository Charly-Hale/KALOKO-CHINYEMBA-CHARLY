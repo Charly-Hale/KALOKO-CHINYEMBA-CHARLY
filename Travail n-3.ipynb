{
 "cells": [
  {
   "cell_type": "markdown",
   "id": "0e54a147-8e22-4275-853d-cc10bc04c5c5",
   "metadata": {},
   "source": [
    "# 1. Importation des Librairies"
   ]
  },
  {
   "cell_type": "code",
   "execution_count": 1,
   "id": "a92c0c3d-5cd2-4173-a08f-9fb844cc9636",
   "metadata": {},
   "outputs": [],
   "source": [
    "import numpy as np\n",
    "import pandas as pd\n",
    "import seaborn as sns\n",
    "import matplotlib.pyplot as plt\n",
    "\n",
    "from sklearn.preprocessing import LabelEncoder\n",
    "from sklearn.preprocessing import StandardScaler\n",
    "from sklearn.model_selection import train_test_split\n",
    "\n",
    "from tensorflow.keras.models import Sequential\n",
    "from tensorflow.keras.layers import Dense, Dropout\n",
    "from tensorflow.keras.optimizers import Adam\n",
    "\n",
    "import warnings\n",
    "warnings.filterwarnings('ignore')"
   ]
  },
  {
   "cell_type": "markdown",
   "id": "486f3b3b-43c9-40e6-ba16-750d877cdfda",
   "metadata": {},
   "source": [
    "# 2. Chargement des données"
   ]
  },
  {
   "cell_type": "code",
   "execution_count": 2,
   "id": "18967077-3e24-4bf8-a215-561f1686fc45",
   "metadata": {},
   "outputs": [
    {
     "data": {
      "text/html": [
       "<div>\n",
       "<style scoped>\n",
       "    .dataframe tbody tr th:only-of-type {\n",
       "        vertical-align: middle;\n",
       "    }\n",
       "\n",
       "    .dataframe tbody tr th {\n",
       "        vertical-align: top;\n",
       "    }\n",
       "\n",
       "    .dataframe thead th {\n",
       "        text-align: right;\n",
       "    }\n",
       "</style>\n",
       "<table border=\"1\" class=\"dataframe\">\n",
       "  <thead>\n",
       "    <tr style=\"text-align: right;\">\n",
       "      <th></th>\n",
       "      <th>Flow ID</th>\n",
       "      <th>Src IP</th>\n",
       "      <th>Src Port</th>\n",
       "      <th>Dst IP</th>\n",
       "      <th>Dst Port</th>\n",
       "      <th>Protocol</th>\n",
       "      <th>Timestamp</th>\n",
       "      <th>Flow Duration</th>\n",
       "      <th>Total Fwd Packet</th>\n",
       "      <th>Total Bwd packets</th>\n",
       "      <th>...</th>\n",
       "      <th>Active Mean</th>\n",
       "      <th>Active Std</th>\n",
       "      <th>Active Max</th>\n",
       "      <th>Active Min</th>\n",
       "      <th>Idle Mean</th>\n",
       "      <th>Idle Std</th>\n",
       "      <th>Idle Max</th>\n",
       "      <th>Idle Min</th>\n",
       "      <th>Label</th>\n",
       "      <th>Label.1</th>\n",
       "    </tr>\n",
       "  </thead>\n",
       "  <tbody>\n",
       "    <tr>\n",
       "      <th>0</th>\n",
       "      <td>10.152.152.11-216.58.220.99-57158-443-6</td>\n",
       "      <td>10.152.152.11</td>\n",
       "      <td>57158</td>\n",
       "      <td>216.58.220.99</td>\n",
       "      <td>443</td>\n",
       "      <td>6</td>\n",
       "      <td>7/24/2015 16:09</td>\n",
       "      <td>229</td>\n",
       "      <td>1</td>\n",
       "      <td>1</td>\n",
       "      <td>...</td>\n",
       "      <td>0</td>\n",
       "      <td>0</td>\n",
       "      <td>0</td>\n",
       "      <td>0</td>\n",
       "      <td>0.000000e+00</td>\n",
       "      <td>0.000000e+00</td>\n",
       "      <td>0.000000e+00</td>\n",
       "      <td>0.000000e+00</td>\n",
       "      <td>Non-Tor</td>\n",
       "      <td>AUDIO-STREAMING</td>\n",
       "    </tr>\n",
       "    <tr>\n",
       "      <th>1</th>\n",
       "      <td>10.152.152.11-216.58.220.99-57159-443-6</td>\n",
       "      <td>10.152.152.11</td>\n",
       "      <td>57159</td>\n",
       "      <td>216.58.220.99</td>\n",
       "      <td>443</td>\n",
       "      <td>6</td>\n",
       "      <td>7/24/2015 16:09</td>\n",
       "      <td>407</td>\n",
       "      <td>1</td>\n",
       "      <td>1</td>\n",
       "      <td>...</td>\n",
       "      <td>0</td>\n",
       "      <td>0</td>\n",
       "      <td>0</td>\n",
       "      <td>0</td>\n",
       "      <td>0.000000e+00</td>\n",
       "      <td>0.000000e+00</td>\n",
       "      <td>0.000000e+00</td>\n",
       "      <td>0.000000e+00</td>\n",
       "      <td>Non-Tor</td>\n",
       "      <td>AUDIO-STREAMING</td>\n",
       "    </tr>\n",
       "    <tr>\n",
       "      <th>2</th>\n",
       "      <td>10.152.152.11-216.58.220.99-57160-443-6</td>\n",
       "      <td>10.152.152.11</td>\n",
       "      <td>57160</td>\n",
       "      <td>216.58.220.99</td>\n",
       "      <td>443</td>\n",
       "      <td>6</td>\n",
       "      <td>7/24/2015 16:09</td>\n",
       "      <td>431</td>\n",
       "      <td>1</td>\n",
       "      <td>1</td>\n",
       "      <td>...</td>\n",
       "      <td>0</td>\n",
       "      <td>0</td>\n",
       "      <td>0</td>\n",
       "      <td>0</td>\n",
       "      <td>0.000000e+00</td>\n",
       "      <td>0.000000e+00</td>\n",
       "      <td>0.000000e+00</td>\n",
       "      <td>0.000000e+00</td>\n",
       "      <td>Non-Tor</td>\n",
       "      <td>AUDIO-STREAMING</td>\n",
       "    </tr>\n",
       "    <tr>\n",
       "      <th>3</th>\n",
       "      <td>10.152.152.11-74.125.136.120-49134-443-6</td>\n",
       "      <td>10.152.152.11</td>\n",
       "      <td>49134</td>\n",
       "      <td>74.125.136.120</td>\n",
       "      <td>443</td>\n",
       "      <td>6</td>\n",
       "      <td>7/24/2015 16:09</td>\n",
       "      <td>359</td>\n",
       "      <td>1</td>\n",
       "      <td>1</td>\n",
       "      <td>...</td>\n",
       "      <td>0</td>\n",
       "      <td>0</td>\n",
       "      <td>0</td>\n",
       "      <td>0</td>\n",
       "      <td>0.000000e+00</td>\n",
       "      <td>0.000000e+00</td>\n",
       "      <td>0.000000e+00</td>\n",
       "      <td>0.000000e+00</td>\n",
       "      <td>Non-Tor</td>\n",
       "      <td>AUDIO-STREAMING</td>\n",
       "    </tr>\n",
       "    <tr>\n",
       "      <th>4</th>\n",
       "      <td>10.152.152.11-173.194.65.127-34697-19305-6</td>\n",
       "      <td>10.152.152.11</td>\n",
       "      <td>34697</td>\n",
       "      <td>173.194.65.127</td>\n",
       "      <td>19305</td>\n",
       "      <td>6</td>\n",
       "      <td>7/24/2015 16:09</td>\n",
       "      <td>10778451</td>\n",
       "      <td>591</td>\n",
       "      <td>400</td>\n",
       "      <td>...</td>\n",
       "      <td>0</td>\n",
       "      <td>0</td>\n",
       "      <td>0</td>\n",
       "      <td>0</td>\n",
       "      <td>1.437760e+15</td>\n",
       "      <td>3.117718e+06</td>\n",
       "      <td>1.437760e+15</td>\n",
       "      <td>1.437760e+15</td>\n",
       "      <td>Non-Tor</td>\n",
       "      <td>AUDIO-STREAMING</td>\n",
       "    </tr>\n",
       "    <tr>\n",
       "      <th>5</th>\n",
       "      <td>10.152.152.11-173.194.65.127-54570-443-6</td>\n",
       "      <td>10.152.152.11</td>\n",
       "      <td>54570</td>\n",
       "      <td>173.194.65.127</td>\n",
       "      <td>443</td>\n",
       "      <td>6</td>\n",
       "      <td>7/24/2015 16:10</td>\n",
       "      <td>421362</td>\n",
       "      <td>5</td>\n",
       "      <td>3</td>\n",
       "      <td>...</td>\n",
       "      <td>0</td>\n",
       "      <td>0</td>\n",
       "      <td>0</td>\n",
       "      <td>0</td>\n",
       "      <td>1.437770e+15</td>\n",
       "      <td>1.866111e+05</td>\n",
       "      <td>1.437770e+15</td>\n",
       "      <td>1.437770e+15</td>\n",
       "      <td>Non-Tor</td>\n",
       "      <td>AUDIO-STREAMING</td>\n",
       "    </tr>\n",
       "  </tbody>\n",
       "</table>\n",
       "<p>6 rows × 85 columns</p>\n",
       "</div>"
      ],
      "text/plain": [
       "                                      Flow ID         Src IP  Src Port  \\\n",
       "0     10.152.152.11-216.58.220.99-57158-443-6  10.152.152.11     57158   \n",
       "1     10.152.152.11-216.58.220.99-57159-443-6  10.152.152.11     57159   \n",
       "2     10.152.152.11-216.58.220.99-57160-443-6  10.152.152.11     57160   \n",
       "3    10.152.152.11-74.125.136.120-49134-443-6  10.152.152.11     49134   \n",
       "4  10.152.152.11-173.194.65.127-34697-19305-6  10.152.152.11     34697   \n",
       "5    10.152.152.11-173.194.65.127-54570-443-6  10.152.152.11     54570   \n",
       "\n",
       "           Dst IP  Dst Port  Protocol        Timestamp  Flow Duration  \\\n",
       "0   216.58.220.99       443         6  7/24/2015 16:09            229   \n",
       "1   216.58.220.99       443         6  7/24/2015 16:09            407   \n",
       "2   216.58.220.99       443         6  7/24/2015 16:09            431   \n",
       "3  74.125.136.120       443         6  7/24/2015 16:09            359   \n",
       "4  173.194.65.127     19305         6  7/24/2015 16:09       10778451   \n",
       "5  173.194.65.127       443         6  7/24/2015 16:10         421362   \n",
       "\n",
       "   Total Fwd Packet  Total Bwd packets  ...  Active Mean  Active Std  \\\n",
       "0                 1                  1  ...            0           0   \n",
       "1                 1                  1  ...            0           0   \n",
       "2                 1                  1  ...            0           0   \n",
       "3                 1                  1  ...            0           0   \n",
       "4               591                400  ...            0           0   \n",
       "5                 5                  3  ...            0           0   \n",
       "\n",
       "   Active Max  Active Min     Idle Mean      Idle Std      Idle Max  \\\n",
       "0           0           0  0.000000e+00  0.000000e+00  0.000000e+00   \n",
       "1           0           0  0.000000e+00  0.000000e+00  0.000000e+00   \n",
       "2           0           0  0.000000e+00  0.000000e+00  0.000000e+00   \n",
       "3           0           0  0.000000e+00  0.000000e+00  0.000000e+00   \n",
       "4           0           0  1.437760e+15  3.117718e+06  1.437760e+15   \n",
       "5           0           0  1.437770e+15  1.866111e+05  1.437770e+15   \n",
       "\n",
       "       Idle Min    Label          Label.1  \n",
       "0  0.000000e+00  Non-Tor  AUDIO-STREAMING  \n",
       "1  0.000000e+00  Non-Tor  AUDIO-STREAMING  \n",
       "2  0.000000e+00  Non-Tor  AUDIO-STREAMING  \n",
       "3  0.000000e+00  Non-Tor  AUDIO-STREAMING  \n",
       "4  1.437760e+15  Non-Tor  AUDIO-STREAMING  \n",
       "5  1.437770e+15  Non-Tor  AUDIO-STREAMING  \n",
       "\n",
       "[6 rows x 85 columns]"
      ]
     },
     "execution_count": 2,
     "metadata": {},
     "output_type": "execute_result"
    }
   ],
   "source": [
    "data = pd.read_csv('Data/Darknet_2.csv')\n",
    "data.head(6)"
   ]
  },
  {
   "cell_type": "markdown",
   "id": "55872455-aa28-47d4-89ce-5ea7b09e8b95",
   "metadata": {},
   "source": [
    "# 3. Analyse de données"
   ]
  },
  {
   "cell_type": "code",
   "execution_count": 3,
   "id": "8cb7ba22-4777-4a6f-8cf9-4ed4c49f43ea",
   "metadata": {},
   "outputs": [
    {
     "name": "stdout",
     "output_type": "stream",
     "text": [
      "<class 'pandas.core.frame.DataFrame'>\n",
      "RangeIndex: 141530 entries, 0 to 141529\n",
      "Data columns (total 85 columns):\n",
      " #   Column                      Non-Null Count   Dtype  \n",
      "---  ------                      --------------   -----  \n",
      " 0   Flow ID                     141530 non-null  object \n",
      " 1   Src IP                      141530 non-null  object \n",
      " 2   Src Port                    141530 non-null  int64  \n",
      " 3   Dst IP                      141530 non-null  object \n",
      " 4   Dst Port                    141530 non-null  int64  \n",
      " 5   Protocol                    141530 non-null  int64  \n",
      " 6   Timestamp                   141530 non-null  object \n",
      " 7   Flow Duration               141530 non-null  int64  \n",
      " 8   Total Fwd Packet            141530 non-null  int64  \n",
      " 9   Total Bwd packets           141530 non-null  int64  \n",
      " 10  Total Length of Fwd Packet  141530 non-null  int64  \n",
      " 11  Total Length of Bwd Packet  141530 non-null  int64  \n",
      " 12  Fwd Packet Length Max       141530 non-null  int64  \n",
      " 13  Fwd Packet Length Min       141530 non-null  int64  \n",
      " 14  Fwd Packet Length Mean      141530 non-null  float64\n",
      " 15  Fwd Packet Length Std       141530 non-null  float64\n",
      " 16  Bwd Packet Length Max       141530 non-null  int64  \n",
      " 17  Bwd Packet Length Min       141530 non-null  int64  \n",
      " 18  Bwd Packet Length Mean      141530 non-null  float64\n",
      " 19  Bwd Packet Length Std       141530 non-null  float64\n",
      " 20  Flow Bytes/s                141483 non-null  float64\n",
      " 21  Flow Packets/s              141530 non-null  float64\n",
      " 22  Flow IAT Mean               141530 non-null  float64\n",
      " 23  Flow IAT Std                141530 non-null  float64\n",
      " 24  Flow IAT Max                141530 non-null  int64  \n",
      " 25  Flow IAT Min                141530 non-null  int64  \n",
      " 26  Fwd IAT Total               141530 non-null  int64  \n",
      " 27  Fwd IAT Mean                141530 non-null  float64\n",
      " 28  Fwd IAT Std                 141530 non-null  float64\n",
      " 29  Fwd IAT Max                 141530 non-null  int64  \n",
      " 30  Fwd IAT Min                 141530 non-null  int64  \n",
      " 31  Bwd IAT Total               141530 non-null  int64  \n",
      " 32  Bwd IAT Mean                141530 non-null  float64\n",
      " 33  Bwd IAT Std                 141530 non-null  float64\n",
      " 34  Bwd IAT Max                 141530 non-null  int64  \n",
      " 35  Bwd IAT Min                 141530 non-null  int64  \n",
      " 36  Fwd PSH Flags               141530 non-null  int64  \n",
      " 37  Bwd PSH Flags               141530 non-null  int64  \n",
      " 38  Fwd URG Flags               141530 non-null  int64  \n",
      " 39  Bwd URG Flags               141530 non-null  int64  \n",
      " 40  Fwd Header Length           141530 non-null  int64  \n",
      " 41  Bwd Header Length           141530 non-null  int64  \n",
      " 42  Fwd Packets/s               141530 non-null  float64\n",
      " 43  Bwd Packets/s               141530 non-null  float64\n",
      " 44  Packet Length Min           141530 non-null  int64  \n",
      " 45  Packet Length Max           141530 non-null  int64  \n",
      " 46  Packet Length Mean          141530 non-null  float64\n",
      " 47  Packet Length Std           141530 non-null  float64\n",
      " 48  Packet Length Variance      141530 non-null  float64\n",
      " 49  FIN Flag Count              141530 non-null  int64  \n",
      " 50  SYN Flag Count              141530 non-null  int64  \n",
      " 51  RST Flag Count              141530 non-null  int64  \n",
      " 52  PSH Flag Count              141530 non-null  int64  \n",
      " 53  ACK Flag Count              141530 non-null  int64  \n",
      " 54  URG Flag Count              141530 non-null  int64  \n",
      " 55  CWE Flag Count              141530 non-null  int64  \n",
      " 56  ECE Flag Count              141530 non-null  int64  \n",
      " 57  Down/Up Ratio               141530 non-null  int64  \n",
      " 58  Average Packet Size         141530 non-null  float64\n",
      " 59  Fwd Segment Size Avg        141530 non-null  float64\n",
      " 60  Bwd Segment Size Avg        141530 non-null  float64\n",
      " 61  Fwd Bytes/Bulk Avg          141530 non-null  int64  \n",
      " 62  Fwd Packet/Bulk Avg         141530 non-null  int64  \n",
      " 63  Fwd Bulk Rate Avg           141530 non-null  int64  \n",
      " 64  Bwd Bytes/Bulk Avg          141530 non-null  int64  \n",
      " 65  Bwd Packet/Bulk Avg         141530 non-null  int64  \n",
      " 66  Bwd Bulk Rate Avg           141530 non-null  int64  \n",
      " 67  Subflow Fwd Packets         141530 non-null  int64  \n",
      " 68  Subflow Fwd Bytes           141530 non-null  int64  \n",
      " 69  Subflow Bwd Packets         141530 non-null  int64  \n",
      " 70  Subflow Bwd Bytes           141530 non-null  int64  \n",
      " 71  FWD Init Win Bytes          141530 non-null  int64  \n",
      " 72  Bwd Init Win Bytes          141530 non-null  int64  \n",
      " 73  Fwd Act Data Pkts           141530 non-null  int64  \n",
      " 74  Fwd Seg Size Min            141530 non-null  int64  \n",
      " 75  Active Mean                 141530 non-null  int64  \n",
      " 76  Active Std                  141530 non-null  int64  \n",
      " 77  Active Max                  141530 non-null  int64  \n",
      " 78  Active Min                  141530 non-null  int64  \n",
      " 79  Idle Mean                   141530 non-null  float64\n",
      " 80  Idle Std                    141530 non-null  float64\n",
      " 81  Idle Max                    141530 non-null  float64\n",
      " 82  Idle Min                    141530 non-null  float64\n",
      " 83  Label                       141530 non-null  object \n",
      " 84  Label.1                     141530 non-null  object \n",
      "dtypes: float64(24), int64(55), object(6)\n",
      "memory usage: 91.8+ MB\n"
     ]
    }
   ],
   "source": [
    "data.info()"
   ]
  },
  {
   "cell_type": "markdown",
   "id": "b277874a-b606-49d1-8c35-f114a101dc21",
   "metadata": {},
   "source": [
    "# 4. pretraitement des données"
   ]
  },
  {
   "cell_type": "code",
   "execution_count": 4,
   "id": "ba552142-140b-4c7d-a88b-f79e55608115",
   "metadata": {},
   "outputs": [
    {
     "name": "stdout",
     "output_type": "stream",
     "text": [
      "[22115 22116 22117 ... 52825 53060 52967]\n",
      "[  13  907 3395 ... 1210 1403  506]\n",
      "[3431 5811 1661 ...   26 2979 4504]\n",
      "[ 0  2  3  4  5  6  7  9  1 10  8]\n",
      "[0 1 2 3]\n",
      "[2207 2208 2210 ... 1334 1348 1384]\n"
     ]
    }
   ],
   "source": [
    "encoder = LabelEncoder()\n",
    "data['Flow ID'] = encoder.fit_transform(data['Flow ID'])\n",
    "data['Src IP'] = encoder.fit_transform(data['Src IP'])\n",
    "data['Dst IP']=encoder.fit_transform(data['Dst IP'])\n",
    "data['Label.1']=encoder.fit_transform(data['Label.1'])\n",
    "data['Label']=encoder.fit_transform(data['Label'])\n",
    "data['Timestamp']=encoder.fit_transform(data['Timestamp'])\n",
    "print(data['Flow ID'].unique())\n",
    "print(data['Src IP'].unique())\n",
    "print(data['Dst IP'].unique())\n",
    "print(data['Label.1'].unique())\n",
    "print(data['Label'].unique())\n",
    "print(data['Timestamp'].unique())"
   ]
  },
  {
   "cell_type": "code",
   "execution_count": 5,
   "id": "1d7d91c9-63da-436f-a423-9e2f2d4297b4",
   "metadata": {},
   "outputs": [
    {
     "name": "stdout",
     "output_type": "stream",
     "text": [
      "Flow ID                        0\n",
      "Src IP                         0\n",
      "Src Port                       0\n",
      "Dst IP                         0\n",
      "Dst Port                       0\n",
      "Protocol                       0\n",
      "Timestamp                      0\n",
      "Flow Duration                  0\n",
      "Total Fwd Packet               0\n",
      "Total Bwd packets              0\n",
      "Total Length of Fwd Packet     0\n",
      "Total Length of Bwd Packet     0\n",
      "Fwd Packet Length Max          0\n",
      "Fwd Packet Length Min          0\n",
      "Fwd Packet Length Mean         0\n",
      "Fwd Packet Length Std          0\n",
      "Bwd Packet Length Max          0\n",
      "Bwd Packet Length Min          0\n",
      "Bwd Packet Length Mean         0\n",
      "Bwd Packet Length Std          0\n",
      "Flow Bytes/s                  47\n",
      "Flow Packets/s                 0\n",
      "Flow IAT Mean                  0\n",
      "Flow IAT Std                   0\n",
      "Flow IAT Max                   0\n",
      "Flow IAT Min                   0\n",
      "Fwd IAT Total                  0\n",
      "Fwd IAT Mean                   0\n",
      "Fwd IAT Std                    0\n",
      "Fwd IAT Max                    0\n",
      "Fwd IAT Min                    0\n",
      "Bwd IAT Total                  0\n",
      "Bwd IAT Mean                   0\n",
      "Bwd IAT Std                    0\n",
      "Bwd IAT Max                    0\n",
      "Bwd IAT Min                    0\n",
      "Fwd PSH Flags                  0\n",
      "Bwd PSH Flags                  0\n",
      "Fwd URG Flags                  0\n",
      "Bwd URG Flags                  0\n",
      "Fwd Header Length              0\n",
      "Bwd Header Length              0\n",
      "Fwd Packets/s                  0\n",
      "Bwd Packets/s                  0\n",
      "Packet Length Min              0\n",
      "Packet Length Max              0\n",
      "Packet Length Mean             0\n",
      "Packet Length Std              0\n",
      "Packet Length Variance         0\n",
      "FIN Flag Count                 0\n",
      "SYN Flag Count                 0\n",
      "RST Flag Count                 0\n",
      "PSH Flag Count                 0\n",
      "ACK Flag Count                 0\n",
      "URG Flag Count                 0\n",
      "CWE Flag Count                 0\n",
      "ECE Flag Count                 0\n",
      "Down/Up Ratio                  0\n",
      "Average Packet Size            0\n",
      "Fwd Segment Size Avg           0\n",
      "Bwd Segment Size Avg           0\n",
      "Fwd Bytes/Bulk Avg             0\n",
      "Fwd Packet/Bulk Avg            0\n",
      "Fwd Bulk Rate Avg              0\n",
      "Bwd Bytes/Bulk Avg             0\n",
      "Bwd Packet/Bulk Avg            0\n",
      "Bwd Bulk Rate Avg              0\n",
      "Subflow Fwd Packets            0\n",
      "Subflow Fwd Bytes              0\n",
      "Subflow Bwd Packets            0\n",
      "Subflow Bwd Bytes              0\n",
      "FWD Init Win Bytes             0\n",
      "Bwd Init Win Bytes             0\n",
      "Fwd Act Data Pkts              0\n",
      "Fwd Seg Size Min               0\n",
      "Active Mean                    0\n",
      "Active Std                     0\n",
      "Active Max                     0\n",
      "Active Min                     0\n",
      "Idle Mean                      0\n",
      "Idle Std                       0\n",
      "Idle Max                       0\n",
      "Idle Min                       0\n",
      "Label                          0\n",
      "Label.1                        0\n",
      "dtype: int64\n"
     ]
    },
    {
     "data": {
      "text/plain": [
       "<Axes: >"
      ]
     },
     "execution_count": 5,
     "metadata": {},
     "output_type": "execute_result"
    },
    {
     "data": {
      "image/png": "[encoded data removed]",
      "text/plain": [
       "<Figure size 640x480 with 2 Axes>"
      ]
     },
     "metadata": {},
     "output_type": "display_data"
    }
   ],
   "source": [
    "pd.set_option('display.max_rows', None)\n",
    "print(data.isnull().sum())\n",
    "sns.heatmap(data.isnull())"
   ]
  },
  {
   "cell_type": "code",
   "execution_count": 6,
   "id": "63f26ca5-5b9f-4922-ab94-73d07130b5f2",
   "metadata": {},
   "outputs": [
    {
     "name": "stdout",
     "output_type": "stream",
     "text": [
      "Flow ID                       0\n",
      "Src IP                        0\n",
      "Src Port                      0\n",
      "Dst IP                        0\n",
      "Dst Port                      0\n",
      "Protocol                      0\n",
      "Timestamp                     0\n",
      "Flow Duration                 0\n",
      "Total Fwd Packet              0\n",
      "Total Bwd packets             0\n",
      "Total Length of Fwd Packet    0\n",
      "Total Length of Bwd Packet    0\n",
      "Fwd Packet Length Max         0\n",
      "Fwd Packet Length Min         0\n",
      "Fwd Packet Length Mean        0\n",
      "Fwd Packet Length Std         0\n",
      "Bwd Packet Length Max         0\n",
      "Bwd Packet Length Min         0\n",
      "Bwd Packet Length Mean        0\n",
      "Bwd Packet Length Std         0\n",
      "Flow Bytes/s                  0\n",
      "Flow Packets/s                0\n",
      "Flow IAT Mean                 0\n",
      "Flow IAT Std                  0\n",
      "Flow IAT Max                  0\n",
      "Flow IAT Min                  0\n",
      "Fwd IAT Total                 0\n",
      "Fwd IAT Mean                  0\n",
      "Fwd IAT Std                   0\n",
      "Fwd IAT Max                   0\n",
      "Fwd IAT Min                   0\n",
      "Bwd IAT Total                 0\n",
      "Bwd IAT Mean                  0\n",
      "Bwd IAT Std                   0\n",
      "Bwd IAT Max                   0\n",
      "Bwd IAT Min                   0\n",
      "Fwd PSH Flags                 0\n",
      "Bwd PSH Flags                 0\n",
      "Fwd URG Flags                 0\n",
      "Bwd URG Flags                 0\n",
      "Fwd Header Length             0\n",
      "Bwd Header Length             0\n",
      "Fwd Packets/s                 0\n",
      "Bwd Packets/s                 0\n",
      "Packet Length Min             0\n",
      "Packet Length Max             0\n",
      "Packet Length Mean            0\n",
      "Packet Length Std             0\n",
      "Packet Length Variance        0\n",
      "FIN Flag Count                0\n",
      "SYN Flag Count                0\n",
      "RST Flag Count                0\n",
      "PSH Flag Count                0\n",
      "ACK Flag Count                0\n",
      "URG Flag Count                0\n",
      "CWE Flag Count                0\n",
      "ECE Flag Count                0\n",
      "Down/Up Ratio                 0\n",
      "Average Packet Size           0\n",
      "Fwd Segment Size Avg          0\n",
      "Bwd Segment Size Avg          0\n",
      "Fwd Bytes/Bulk Avg            0\n",
      "Fwd Packet/Bulk Avg           0\n",
      "Fwd Bulk Rate Avg             0\n",
      "Bwd Bytes/Bulk Avg            0\n",
      "Bwd Packet/Bulk Avg           0\n",
      "Bwd Bulk Rate Avg             0\n",
      "Subflow Fwd Packets           0\n",
      "Subflow Fwd Bytes             0\n",
      "Subflow Bwd Packets           0\n",
      "Subflow Bwd Bytes             0\n",
      "FWD Init Win Bytes            0\n",
      "Bwd Init Win Bytes            0\n",
      "Fwd Act Data Pkts             0\n",
      "Fwd Seg Size Min              0\n",
      "Active Mean                   0\n",
      "Active Std                    0\n",
      "Active Max                    0\n",
      "Active Min                    0\n",
      "Idle Mean                     0\n",
      "Idle Std                      0\n",
      "Idle Max                      0\n",
      "Idle Min                      0\n",
      "Label                         0\n",
      "Label.1                       0\n",
      "dtype: int64\n"
     ]
    }
   ],
   "source": [
    "data['Flow Bytes/s'].fillna(data['Flow Bytes/s'].mean(), inplace=True)\n",
    "pd.set_option('display.max_rows', None)\n",
    "print(data.isnull().sum())"
   ]
  },
  {
   "cell_type": "markdown",
   "id": "77ebefcc-100e-40cc-b145-7abf631e29f4",
   "metadata": {},
   "source": [
    "# 5. Division des données"
   ]
  },
  {
   "cell_type": "code",
   "execution_count": 7,
   "id": "71be47ab-4799-44d2-9419-2a3a3917da99",
   "metadata": {},
   "outputs": [],
   "source": [
    "data.drop(columns='Label', inplace=True, axis=1)"
   ]
  },
  {
   "cell_type": "code",
   "execution_count": 8,
   "id": "4894528e-6327-433d-baf1-85b2f57dc590",
   "metadata": {},
   "outputs": [
    {
     "name": "stdout",
     "output_type": "stream",
     "text": [
      "(141530, 83)\n",
      "(141530,)\n"
     ]
    }
   ],
   "source": [
    "X = data.drop(columns='Label.1', axis=1)\n",
    "y = data.iloc[ : , -1]\n",
    "\n",
    "print(X.shape)\n",
    "print(y.shape)"
   ]
  },
  {
   "cell_type": "code",
   "execution_count": 9,
   "id": "8970d39f-cfe2-4306-ab2e-07c9c7086a10",
   "metadata": {},
   "outputs": [
    {
     "name": "stdout",
     "output_type": "stream",
     "text": [
      "X-train: (113224, 83)\n",
      "X-test: (28306, 83)\n",
      "y-train: (113224,)\n",
      "y-train: (28306,)\n"
     ]
    }
   ],
   "source": [
    "X_train, X_test, y_train, y_test = train_test_split(X, y, test_size=0.20, random_state=40)\n",
    "\n",
    "print(\"X-train:\", X_train.shape)\n",
    "print(\"X-test:\", X_test.shape)\n",
    "print(\"y-train:\", y_train.shape)\n",
    "print(\"y-train:\", y_test.shape)"
   ]
  },
  {
   "cell_type": "markdown",
   "id": "1aa69085-bc60-4e5f-a4c3-0c4295ec7d3f",
   "metadata": {},
   "source": [
    "# 6. Constructrion du SNN"
   ]
  },
  {
   "cell_type": "code",
   "execution_count": 10,
   "id": "41ec9972-1584-4379-b171-e5091f58890b",
   "metadata": {},
   "outputs": [
    {
     "data": {
      "text/html": [
       "<pre style=\"white-space:pre;overflow-x:auto;line-height:normal;font-family:Menlo,'DejaVu Sans Mono',consolas,'Courier New',monospace\"><span style=\"font-weight: bold\">Model: \"sequential\"</span>\n",
       "</pre>\n"
      ],
      "text/plain": [
       "\u001b[1mModel: \"sequential\"\u001b[0m\n"
      ]
     },
     "metadata": {},
     "output_type": "display_data"
    },
    {
     "data": {
      "text/html": [
       "<pre style=\"white-space:pre;overflow-x:auto;line-height:normal;font-family:Menlo,'DejaVu Sans Mono',consolas,'Courier New',monospace\">┏━━━━━━━━━━━━━━━━━━━━━━━━━━━━━━━━━┳━━━━━━━━━━━━━━━━━━━━━━━━┳━━━━━━━━━━━━━━━┓\n",
       "┃<span style=\"font-weight: bold\"> Layer (type)                    </span>┃<span style=\"font-weight: bold\"> Output Shape           </span>┃<span style=\"font-weight: bold\">       Param # </span>┃\n",
       "┡━━━━━━━━━━━━━━━━━━━━━━━━━━━━━━━━━╇━━━━━━━━━━━━━━━━━━━━━━━━╇━━━━━━━━━━━━━━━┩\n",
       "│ dense (<span style=\"color: #0087ff; text-decoration-color: #0087ff\">Dense</span>)                   │ (<span style=\"color: #00d7ff; text-decoration-color: #00d7ff\">None</span>, <span style=\"color: #00af00; text-decoration-color: #00af00\">128</span>)            │        <span style=\"color: #00af00; text-decoration-color: #00af00\">10,752</span> │\n",
       "├─────────────────────────────────┼────────────────────────┼───────────────┤\n",
       "│ dropout (<span style=\"color: #0087ff; text-decoration-color: #0087ff\">Dropout</span>)               │ (<span style=\"color: #00d7ff; text-decoration-color: #00d7ff\">None</span>, <span style=\"color: #00af00; text-decoration-color: #00af00\">128</span>)            │             <span style=\"color: #00af00; text-decoration-color: #00af00\">0</span> │\n",
       "├─────────────────────────────────┼────────────────────────┼───────────────┤\n",
       "│ dense_1 (<span style=\"color: #0087ff; text-decoration-color: #0087ff\">Dense</span>)                 │ (<span style=\"color: #00d7ff; text-decoration-color: #00d7ff\">None</span>, <span style=\"color: #00af00; text-decoration-color: #00af00\">64</span>)             │         <span style=\"color: #00af00; text-decoration-color: #00af00\">8,256</span> │\n",
       "├─────────────────────────────────┼────────────────────────┼───────────────┤\n",
       "│ dropout_1 (<span style=\"color: #0087ff; text-decoration-color: #0087ff\">Dropout</span>)             │ (<span style=\"color: #00d7ff; text-decoration-color: #00d7ff\">None</span>, <span style=\"color: #00af00; text-decoration-color: #00af00\">64</span>)             │             <span style=\"color: #00af00; text-decoration-color: #00af00\">0</span> │\n",
       "├─────────────────────────────────┼────────────────────────┼───────────────┤\n",
       "│ dense_2 (<span style=\"color: #0087ff; text-decoration-color: #0087ff\">Dense</span>)                 │ (<span style=\"color: #00d7ff; text-decoration-color: #00d7ff\">None</span>, <span style=\"color: #00af00; text-decoration-color: #00af00\">32</span>)             │         <span style=\"color: #00af00; text-decoration-color: #00af00\">2,080</span> │\n",
       "├─────────────────────────────────┼────────────────────────┼───────────────┤\n",
       "│ dropout_2 (<span style=\"color: #0087ff; text-decoration-color: #0087ff\">Dropout</span>)             │ (<span style=\"color: #00d7ff; text-decoration-color: #00d7ff\">None</span>, <span style=\"color: #00af00; text-decoration-color: #00af00\">32</span>)             │             <span style=\"color: #00af00; text-decoration-color: #00af00\">0</span> │\n",
       "├─────────────────────────────────┼────────────────────────┼───────────────┤\n",
       "│ dense_3 (<span style=\"color: #0087ff; text-decoration-color: #0087ff\">Dense</span>)                 │ (<span style=\"color: #00d7ff; text-decoration-color: #00d7ff\">None</span>, <span style=\"color: #00af00; text-decoration-color: #00af00\">16</span>)             │           <span style=\"color: #00af00; text-decoration-color: #00af00\">528</span> │\n",
       "├─────────────────────────────────┼────────────────────────┼───────────────┤\n",
       "│ dropout_3 (<span style=\"color: #0087ff; text-decoration-color: #0087ff\">Dropout</span>)             │ (<span style=\"color: #00d7ff; text-decoration-color: #00d7ff\">None</span>, <span style=\"color: #00af00; text-decoration-color: #00af00\">16</span>)             │             <span style=\"color: #00af00; text-decoration-color: #00af00\">0</span> │\n",
       "├─────────────────────────────────┼────────────────────────┼───────────────┤\n",
       "│ dense_4 (<span style=\"color: #0087ff; text-decoration-color: #0087ff\">Dense</span>)                 │ (<span style=\"color: #00d7ff; text-decoration-color: #00d7ff\">None</span>, <span style=\"color: #00af00; text-decoration-color: #00af00\">1</span>)              │            <span style=\"color: #00af00; text-decoration-color: #00af00\">17</span> │\n",
       "└─────────────────────────────────┴────────────────────────┴───────────────┘\n",
       "</pre>\n"
      ],
      "text/plain": [
       "┏━━━━━━━━━━━━━━━━━━━━━━━━━━━━━━━━━┳━━━━━━━━━━━━━━━━━━━━━━━━┳━━━━━━━━━━━━━━━┓\n",
       "┃\u001b[1m \u001b[0m\u001b[1mLayer (type)                   \u001b[0m\u001b[1m \u001b[0m┃\u001b[1m \u001b[0m\u001b[1mOutput Shape          \u001b[0m\u001b[1m \u001b[0m┃\u001b[1m \u001b[0m\u001b[1m      Param #\u001b[0m\u001b[1m \u001b[0m┃\n",
       "┡━━━━━━━━━━━━━━━━━━━━━━━━━━━━━━━━━╇━━━━━━━━━━━━━━━━━━━━━━━━╇━━━━━━━━━━━━━━━┩\n",
       "│ dense (\u001b[38;5;33mDense\u001b[0m)                   │ (\u001b[38;5;45mNone\u001b[0m, \u001b[38;5;34m128\u001b[0m)            │        \u001b[38;5;34m10,752\u001b[0m │\n",
       "├─────────────────────────────────┼────────────────────────┼───────────────┤\n",
       "│ dropout (\u001b[38;5;33mDropout\u001b[0m)               │ (\u001b[38;5;45mNone\u001b[0m, \u001b[38;5;34m128\u001b[0m)            │             \u001b[38;5;34m0\u001b[0m │\n",
       "├─────────────────────────────────┼────────────────────────┼───────────────┤\n",
       "│ dense_1 (\u001b[38;5;33mDense\u001b[0m)                 │ (\u001b[38;5;45mNone\u001b[0m, \u001b[38;5;34m64\u001b[0m)             │         \u001b[38;5;34m8,256\u001b[0m │\n",
       "├─────────────────────────────────┼────────────────────────┼───────────────┤\n",
       "│ dropout_1 (\u001b[38;5;33mDropout\u001b[0m)             │ (\u001b[38;5;45mNone\u001b[0m, \u001b[38;5;34m64\u001b[0m)             │             \u001b[38;5;34m0\u001b[0m │\n",
       "├─────────────────────────────────┼────────────────────────┼───────────────┤\n",
       "│ dense_2 (\u001b[38;5;33mDense\u001b[0m)                 │ (\u001b[38;5;45mNone\u001b[0m, \u001b[38;5;34m32\u001b[0m)             │         \u001b[38;5;34m2,080\u001b[0m │\n",
       "├─────────────────────────────────┼────────────────────────┼───────────────┤\n",
       "│ dropout_2 (\u001b[38;5;33mDropout\u001b[0m)             │ (\u001b[38;5;45mNone\u001b[0m, \u001b[38;5;34m32\u001b[0m)             │             \u001b[38;5;34m0\u001b[0m │\n",
       "├─────────────────────────────────┼────────────────────────┼───────────────┤\n",
       "│ dense_3 (\u001b[38;5;33mDense\u001b[0m)                 │ (\u001b[38;5;45mNone\u001b[0m, \u001b[38;5;34m16\u001b[0m)             │           \u001b[38;5;34m528\u001b[0m │\n",
       "├─────────────────────────────────┼────────────────────────┼───────────────┤\n",
       "│ dropout_3 (\u001b[38;5;33mDropout\u001b[0m)             │ (\u001b[38;5;45mNone\u001b[0m, \u001b[38;5;34m16\u001b[0m)             │             \u001b[38;5;34m0\u001b[0m │\n",
       "├─────────────────────────────────┼────────────────────────┼───────────────┤\n",
       "│ dense_4 (\u001b[38;5;33mDense\u001b[0m)                 │ (\u001b[38;5;45mNone\u001b[0m, \u001b[38;5;34m1\u001b[0m)              │            \u001b[38;5;34m17\u001b[0m │\n",
       "└─────────────────────────────────┴────────────────────────┴───────────────┘\n"
      ]
     },
     "metadata": {},
     "output_type": "display_data"
    },
    {
     "data": {
      "text/html": [
       "<pre style=\"white-space:pre;overflow-x:auto;line-height:normal;font-family:Menlo,'DejaVu Sans Mono',consolas,'Courier New',monospace\"><span style=\"font-weight: bold\"> Total params: </span><span style=\"color: #00af00; text-decoration-color: #00af00\">21,633</span> (84.50 KB)\n",
       "</pre>\n"
      ],
      "text/plain": [
       "\u001b[1m Total params: \u001b[0m\u001b[38;5;34m21,633\u001b[0m (84.50 KB)\n"
      ]
     },
     "metadata": {},
     "output_type": "display_data"
    },
    {
     "data": {
      "text/html": [
       "<pre style=\"white-space:pre;overflow-x:auto;line-height:normal;font-family:Menlo,'DejaVu Sans Mono',consolas,'Courier New',monospace\"><span style=\"font-weight: bold\"> Trainable params: </span><span style=\"color: #00af00; text-decoration-color: #00af00\">21,633</span> (84.50 KB)\n",
       "</pre>\n"
      ],
      "text/plain": [
       "\u001b[1m Trainable params: \u001b[0m\u001b[38;5;34m21,633\u001b[0m (84.50 KB)\n"
      ]
     },
     "metadata": {},
     "output_type": "display_data"
    },
    {
     "data": {
      "text/html": [
       "<pre style=\"white-space:pre;overflow-x:auto;line-height:normal;font-family:Menlo,'DejaVu Sans Mono',consolas,'Courier New',monospace\"><span style=\"font-weight: bold\"> Non-trainable params: </span><span style=\"color: #00af00; text-decoration-color: #00af00\">0</span> (0.00 B)\n",
       "</pre>\n"
      ],
      "text/plain": [
       "\u001b[1m Non-trainable params: \u001b[0m\u001b[38;5;34m0\u001b[0m (0.00 B)\n"
      ]
     },
     "metadata": {},
     "output_type": "display_data"
    }
   ],
   "source": [
    "model = Sequential()\n",
    "model.add(Dense(128, input_shape=(83,), activation='relu'))\n",
    "model.add(Dropout(0.5))\n",
    "model.add(Dense(64, activation='relu'))\n",
    "model.add(Dropout(0.5))\n",
    "model.add(Dense(32, activation='relu'))\n",
    "model.add(Dropout(0.5))\n",
    "model.add(Dense(16, activation='relu'))\n",
    "model.add(Dropout(0.5))\n",
    "model.add(Dense(1, activation='sigmoid'))\n",
    "model.compile(optimizer='adam', loss='binary_crossentropy', metrics=['accuracy'])\n",
    "model.summary()"
   ]
  },
  {
   "cell_type": "code",
   "execution_count": 11,
   "id": "10642595-0df5-4726-8a36-cdc2e438e536",
   "metadata": {},
   "outputs": [
    {
     "name": "stdout",
     "output_type": "stream",
     "text": [
      "Epoch 1/75\n",
      "\u001b[1m3539/3539\u001b[0m \u001b[32m━━━━━━━━━━━━━━━━━━━━\u001b[0m\u001b[37m\u001b[0m \u001b[1m21s\u001b[0m 5ms/step - accuracy: 0.1164 - loss: -47961706856448.0000 - val_accuracy: 0.1164 - val_loss: -78.1899\n",
      "Epoch 2/75\n",
      "\u001b[1m3539/3539\u001b[0m \u001b[32m━━━━━━━━━━━━━━━━━━━━\u001b[0m\u001b[37m\u001b[0m \u001b[1m20s\u001b[0m 5ms/step - accuracy: 0.1167 - loss: -98.4540 - val_accuracy: 0.1164 - val_loss: -169.1844\n",
      "Epoch 3/75\n",
      "\u001b[1m3539/3539\u001b[0m \u001b[32m━━━━━━━━━━━━━━━━━━━━\u001b[0m\u001b[37m\u001b[0m \u001b[1m21s\u001b[0m 5ms/step - accuracy: 0.1178 - loss: -204.2797 - val_accuracy: 0.1164 - val_loss: -339.6412\n",
      "Epoch 4/75\n",
      "\u001b[1m3539/3539\u001b[0m \u001b[32m━━━━━━━━━━━━━━━━━━━━\u001b[0m\u001b[37m\u001b[0m \u001b[1m21s\u001b[0m 5ms/step - accuracy: 0.1174 - loss: -389.5469 - val_accuracy: 0.1164 - val_loss: -569.6224\n",
      "Epoch 5/75\n",
      "\u001b[1m3539/3539\u001b[0m \u001b[32m━━━━━━━━━━━━━━━━━━━━\u001b[0m\u001b[37m\u001b[0m \u001b[1m17s\u001b[0m 5ms/step - accuracy: 0.1183 - loss: -625.9182 - val_accuracy: 0.1164 - val_loss: -849.7388\n",
      "Epoch 6/75\n",
      "\u001b[1m3539/3539\u001b[0m \u001b[32m━━━━━━━━━━━━━━━━━━━━\u001b[0m\u001b[37m\u001b[0m \u001b[1m21s\u001b[0m 5ms/step - accuracy: 0.1184 - loss: -921.9898 - val_accuracy: 0.1164 - val_loss: -1179.1630\n",
      "Epoch 7/75\n",
      "\u001b[1m3539/3539\u001b[0m \u001b[32m━━━━━━━━━━━━━━━━━━━━\u001b[0m\u001b[37m\u001b[0m \u001b[1m20s\u001b[0m 5ms/step - accuracy: 0.1167 - loss: -1266.6044 - val_accuracy: 0.1164 - val_loss: -1558.7467\n",
      "Epoch 8/75\n",
      "\u001b[1m3539/3539\u001b[0m \u001b[32m━━━━━━━━━━━━━━━━━━━━\u001b[0m\u001b[37m\u001b[0m \u001b[1m21s\u001b[0m 5ms/step - accuracy: 0.1162 - loss: -1654.6361 - val_accuracy: 0.1164 - val_loss: -1988.2661\n",
      "Epoch 9/75\n",
      "\u001b[1m3539/3539\u001b[0m \u001b[32m━━━━━━━━━━━━━━━━━━━━\u001b[0m\u001b[37m\u001b[0m \u001b[1m21s\u001b[0m 5ms/step - accuracy: 0.1179 - loss: -2095.3066 - val_accuracy: 0.1164 - val_loss: -2485.7944\n",
      "Epoch 10/75\n",
      "\u001b[1m3539/3539\u001b[0m \u001b[32m━━━━━━━━━━━━━━━━━━━━\u001b[0m\u001b[37m\u001b[0m \u001b[1m20s\u001b[0m 5ms/step - accuracy: 0.1183 - loss: -2617.0496 - val_accuracy: 0.1164 - val_loss: -3117.4700\n",
      "Epoch 11/75\n",
      "\u001b[1m3539/3539\u001b[0m \u001b[32m━━━━━━━━━━━━━━━━━━━━\u001b[0m\u001b[37m\u001b[0m \u001b[1m21s\u001b[0m 5ms/step - accuracy: 0.1186 - loss: -3329.9641 - val_accuracy: 0.1164 - val_loss: -4562.0913\n",
      "Epoch 12/75\n",
      "\u001b[1m3539/3539\u001b[0m \u001b[32m━━━━━━━━━━━━━━━━━━━━\u001b[0m\u001b[37m\u001b[0m \u001b[1m21s\u001b[0m 5ms/step - accuracy: 0.1185 - loss: -5696.7622 - val_accuracy: 0.1164 - val_loss: -13406.1377\n",
      "Epoch 13/75\n",
      "\u001b[1m3539/3539\u001b[0m \u001b[32m━━━━━━━━━━━━━━━━━━━━\u001b[0m\u001b[37m\u001b[0m \u001b[1m20s\u001b[0m 5ms/step - accuracy: 0.1184 - loss: -23874.4668 - val_accuracy: 0.1164 - val_loss: -94936.6641\n",
      "Epoch 14/75\n",
      "\u001b[1m3539/3539\u001b[0m \u001b[32m━━━━━━━━━━━━━━━━━━━━\u001b[0m\u001b[37m\u001b[0m \u001b[1m21s\u001b[0m 5ms/step - accuracy: 0.1174 - loss: -157172.2656 - val_accuracy: 0.1164 - val_loss: -476931.2812\n",
      "Epoch 15/75\n",
      "\u001b[1m3539/3539\u001b[0m \u001b[32m━━━━━━━━━━━━━━━━━━━━\u001b[0m\u001b[37m\u001b[0m \u001b[1m20s\u001b[0m 5ms/step - accuracy: 0.1178 - loss: -684259.3125 - val_accuracy: 0.1164 - val_loss: -1600165.3750\n",
      "Epoch 16/75\n",
      "\u001b[1m3539/3539\u001b[0m \u001b[32m━━━━━━━━━━━━━━━━━━━━\u001b[0m\u001b[37m\u001b[0m \u001b[1m21s\u001b[0m 5ms/step - accuracy: 0.1165 - loss: -2039652.3750 - val_accuracy: 0.1164 - val_loss: -3680930.2500\n",
      "Epoch 17/75\n",
      "\u001b[1m3539/3539\u001b[0m \u001b[32m━━━━━━━━━━━━━━━━━━━━\u001b[0m\u001b[37m\u001b[0m \u001b[1m21s\u001b[0m 5ms/step - accuracy: 0.1167 - loss: -4352167.5000 - val_accuracy: 0.1164 - val_loss: -6763404.0000\n",
      "Epoch 18/75\n",
      "\u001b[1m3539/3539\u001b[0m \u001b[32m━━━━━━━━━━━━━━━━━━━━\u001b[0m\u001b[37m\u001b[0m \u001b[1m20s\u001b[0m 5ms/step - accuracy: 0.1181 - loss: -7675792.5000 - val_accuracy: 0.1164 - val_loss: -11047641.0000\n",
      "Epoch 19/75\n",
      "\u001b[1m3539/3539\u001b[0m \u001b[32m━━━━━━━━━━━━━━━━━━━━\u001b[0m\u001b[37m\u001b[0m \u001b[1m20s\u001b[0m 5ms/step - accuracy: 0.1179 - loss: -12333650.0000 - val_accuracy: 0.1164 - val_loss: -16818886.0000\n",
      "Epoch 20/75\n",
      "\u001b[1m3539/3539\u001b[0m \u001b[32m━━━━━━━━━━━━━━━━━━━━\u001b[0m\u001b[37m\u001b[0m \u001b[1m21s\u001b[0m 5ms/step - accuracy: 0.1162 - loss: -18464450.0000 - val_accuracy: 0.1164 - val_loss: -24281720.0000\n",
      "Epoch 21/75\n",
      "\u001b[1m3539/3539\u001b[0m \u001b[32m━━━━━━━━━━━━━━━━━━━━\u001b[0m\u001b[37m\u001b[0m \u001b[1m21s\u001b[0m 5ms/step - accuracy: 0.1169 - loss: -26268650.0000 - val_accuracy: 0.1164 - val_loss: -33614492.0000\n",
      "Epoch 22/75\n",
      "\u001b[1m3539/3539\u001b[0m \u001b[32m━━━━━━━━━━━━━━━━━━━━\u001b[0m\u001b[37m\u001b[0m \u001b[1m17s\u001b[0m 5ms/step - accuracy: 0.1168 - loss: -36093880.0000 - val_accuracy: 0.1164 - val_loss: -44934248.0000\n",
      "Epoch 23/75\n",
      "\u001b[1m3539/3539\u001b[0m \u001b[32m━━━━━━━━━━━━━━━━━━━━\u001b[0m\u001b[37m\u001b[0m \u001b[1m21s\u001b[0m 5ms/step - accuracy: 0.1186 - loss: -47608284.0000 - val_accuracy: 0.1164 - val_loss: -58410536.0000\n",
      "Epoch 24/75\n",
      "\u001b[1m3539/3539\u001b[0m \u001b[32m━━━━━━━━━━━━━━━━━━━━\u001b[0m\u001b[37m\u001b[0m \u001b[1m21s\u001b[0m 5ms/step - accuracy: 0.1166 - loss: -61482000.0000 - val_accuracy: 0.1164 - val_loss: -74200752.0000\n",
      "Epoch 25/75\n",
      "\u001b[1m3539/3539\u001b[0m \u001b[32m━━━━━━━━━━━━━━━━━━━━\u001b[0m\u001b[37m\u001b[0m \u001b[1m21s\u001b[0m 5ms/step - accuracy: 0.1179 - loss: -77918704.0000 - val_accuracy: 0.1164 - val_loss: -92481512.0000\n",
      "Epoch 26/75\n",
      "\u001b[1m3539/3539\u001b[0m \u001b[32m━━━━━━━━━━━━━━━━━━━━\u001b[0m\u001b[37m\u001b[0m \u001b[1m20s\u001b[0m 5ms/step - accuracy: 0.1156 - loss: -96537704.0000 - val_accuracy: 0.1164 - val_loss: -113316760.0000\n",
      "Epoch 27/75\n",
      "\u001b[1m3539/3539\u001b[0m \u001b[32m━━━━━━━━━━━━━━━━━━━━\u001b[0m\u001b[37m\u001b[0m \u001b[1m20s\u001b[0m 5ms/step - accuracy: 0.1164 - loss: -118490680.0000 - val_accuracy: 0.1164 - val_loss: -136959936.0000\n",
      "Epoch 28/75\n",
      "\u001b[1m3539/3539\u001b[0m \u001b[32m━━━━━━━━━━━━━━━━━━━━\u001b[0m\u001b[37m\u001b[0m \u001b[1m21s\u001b[0m 5ms/step - accuracy: 0.1177 - loss: -142100704.0000 - val_accuracy: 0.1164 - val_loss: -163558128.0000\n",
      "Epoch 29/75\n",
      "\u001b[1m3539/3539\u001b[0m \u001b[32m━━━━━━━━━━━━━━━━━━━━\u001b[0m\u001b[37m\u001b[0m \u001b[1m21s\u001b[0m 5ms/step - accuracy: 0.1187 - loss: -169485072.0000 - val_accuracy: 0.1164 - val_loss: -193250560.0000\n",
      "Epoch 30/75\n",
      "\u001b[1m3539/3539\u001b[0m \u001b[32m━━━━━━━━━━━━━━━━━━━━\u001b[0m\u001b[37m\u001b[0m \u001b[1m18s\u001b[0m 5ms/step - accuracy: 0.1183 - loss: -198998192.0000 - val_accuracy: 0.1164 - val_loss: -226104304.0000\n",
      "Epoch 31/75\n",
      "\u001b[1m3539/3539\u001b[0m \u001b[32m━━━━━━━━━━━━━━━━━━━━\u001b[0m\u001b[37m\u001b[0m \u001b[1m20s\u001b[0m 5ms/step - accuracy: 0.1178 - loss: -233132048.0000 - val_accuracy: 0.1164 - val_loss: -262373280.0000\n",
      "Epoch 32/75\n",
      "\u001b[1m3539/3539\u001b[0m \u001b[32m━━━━━━━━━━━━━━━━━━━━\u001b[0m\u001b[37m\u001b[0m \u001b[1m21s\u001b[0m 5ms/step - accuracy: 0.1177 - loss: -270679168.0000 - val_accuracy: 0.1164 - val_loss: -302253344.0000\n",
      "Epoch 33/75\n",
      "\u001b[1m3539/3539\u001b[0m \u001b[32m━━━━━━━━━━━━━━━━━━━━\u001b[0m\u001b[37m\u001b[0m \u001b[1m21s\u001b[0m 5ms/step - accuracy: 0.1185 - loss: -310496512.0000 - val_accuracy: 0.1164 - val_loss: -345805376.0000\n",
      "Epoch 34/75\n",
      "\u001b[1m3539/3539\u001b[0m \u001b[32m━━━━━━━━━━━━━━━━━━━━\u001b[0m\u001b[37m\u001b[0m \u001b[1m20s\u001b[0m 5ms/step - accuracy: 0.1164 - loss: -354756896.0000 - val_accuracy: 0.1164 - val_loss: -393153696.0000\n",
      "Epoch 35/75\n",
      "\u001b[1m3539/3539\u001b[0m \u001b[32m━━━━━━━━━━━━━━━━━━━━\u001b[0m\u001b[37m\u001b[0m \u001b[1m21s\u001b[0m 5ms/step - accuracy: 0.1190 - loss: -401297568.0000 - val_accuracy: 0.1164 - val_loss: -444574432.0000\n",
      "Epoch 36/75\n",
      "\u001b[1m3539/3539\u001b[0m \u001b[32m━━━━━━━━━━━━━━━━━━━━\u001b[0m\u001b[37m\u001b[0m \u001b[1m20s\u001b[0m 5ms/step - accuracy: 0.1177 - loss: -453679072.0000 - val_accuracy: 0.1164 - val_loss: -500113792.0000\n",
      "Epoch 37/75\n",
      "\u001b[1m3539/3539\u001b[0m \u001b[32m━━━━━━━━━━━━━━━━━━━━\u001b[0m\u001b[37m\u001b[0m \u001b[1m17s\u001b[0m 4ms/step - accuracy: 0.1184 - loss: -510330048.0000 - val_accuracy: 0.1164 - val_loss: -559954048.0000\n",
      "Epoch 38/75\n",
      "\u001b[1m3539/3539\u001b[0m \u001b[32m━━━━━━━━━━━━━━━━━━━━\u001b[0m\u001b[37m\u001b[0m \u001b[1m10s\u001b[0m 3ms/step - accuracy: 0.1157 - loss: -573898176.0000 - val_accuracy: 0.1164 - val_loss: -624234368.0000\n",
      "Epoch 39/75\n",
      "\u001b[1m3539/3539\u001b[0m \u001b[32m━━━━━━━━━━━━━━━━━━━━\u001b[0m\u001b[37m\u001b[0m \u001b[1m10s\u001b[0m 3ms/step - accuracy: 0.1164 - loss: -635268800.0000 - val_accuracy: 0.1164 - val_loss: -693230976.0000\n",
      "Epoch 40/75\n",
      "\u001b[1m3539/3539\u001b[0m \u001b[32m━━━━━━━━━━━━━━━━━━━━\u001b[0m\u001b[37m\u001b[0m \u001b[1m9s\u001b[0m 3ms/step - accuracy: 0.1177 - loss: -703003904.0000 - val_accuracy: 0.1164 - val_loss: -767095104.0000\n",
      "Epoch 41/75\n",
      "\u001b[1m3539/3539\u001b[0m \u001b[32m━━━━━━━━━━━━━━━━━━━━\u001b[0m\u001b[37m\u001b[0m \u001b[1m9s\u001b[0m 3ms/step - accuracy: 0.1174 - loss: -780706368.0000 - val_accuracy: 0.1164 - val_loss: -845758528.0000\n",
      "Epoch 42/75\n",
      "\u001b[1m3539/3539\u001b[0m \u001b[32m━━━━━━━━━━━━━━━━━━━━\u001b[0m\u001b[37m\u001b[0m \u001b[1m10s\u001b[0m 3ms/step - accuracy: 0.1168 - loss: -863318208.0000 - val_accuracy: 0.1164 - val_loss: -929528064.0000\n",
      "Epoch 43/75\n",
      "\u001b[1m3539/3539\u001b[0m \u001b[32m━━━━━━━━━━━━━━━━━━━━\u001b[0m\u001b[37m\u001b[0m \u001b[1m10s\u001b[0m 3ms/step - accuracy: 0.1179 - loss: -940176384.0000 - val_accuracy: 0.1164 - val_loss: -1018603008.0000\n",
      "Epoch 44/75\n",
      "\u001b[1m3539/3539\u001b[0m \u001b[32m━━━━━━━━━━━━━━━━━━━━\u001b[0m\u001b[37m\u001b[0m \u001b[1m10s\u001b[0m 3ms/step - accuracy: 0.1176 - loss: -1032865856.0000 - val_accuracy: 0.1164 - val_loss: -1112894976.0000\n",
      "Epoch 45/75\n",
      "\u001b[1m3539/3539\u001b[0m \u001b[32m━━━━━━━━━━━━━━━━━━━━\u001b[0m\u001b[37m\u001b[0m \u001b[1m10s\u001b[0m 3ms/step - accuracy: 0.1166 - loss: -1132862080.0000 - val_accuracy: 0.1164 - val_loss: -1212629760.0000\n",
      "Epoch 46/75\n",
      "\u001b[1m3539/3539\u001b[0m \u001b[32m━━━━━━━━━━━━━━━━━━━━\u001b[0m\u001b[37m\u001b[0m \u001b[1m10s\u001b[0m 3ms/step - accuracy: 0.1169 - loss: -1235616384.0000 - val_accuracy: 0.1164 - val_loss: -1318470016.0000\n",
      "Epoch 47/75\n",
      "\u001b[1m3539/3539\u001b[0m \u001b[32m━━━━━━━━━━━━━━━━━━━━\u001b[0m\u001b[37m\u001b[0m \u001b[1m9s\u001b[0m 3ms/step - accuracy: 0.1185 - loss: -1329269504.0000 - val_accuracy: 0.1164 - val_loss: -1429884288.0000\n",
      "Epoch 48/75\n",
      "\u001b[1m3539/3539\u001b[0m \u001b[32m━━━━━━━━━━━━━━━━━━━━\u001b[0m\u001b[37m\u001b[0m \u001b[1m12s\u001b[0m 3ms/step - accuracy: 0.1180 - loss: -1444121984.0000 - val_accuracy: 0.1164 - val_loss: -1547354752.0000\n",
      "Epoch 49/75\n",
      "\u001b[1m3539/3539\u001b[0m \u001b[32m━━━━━━━━━━━━━━━━━━━━\u001b[0m\u001b[37m\u001b[0m \u001b[1m11s\u001b[0m 3ms/step - accuracy: 0.1158 - loss: -1563668608.0000 - val_accuracy: 0.1164 - val_loss: -1670864512.0000\n",
      "Epoch 50/75\n",
      "\u001b[1m3539/3539\u001b[0m \u001b[32m━━━━━━━━━━━━━━━━━━━━\u001b[0m\u001b[37m\u001b[0m \u001b[1m11s\u001b[0m 3ms/step - accuracy: 0.1166 - loss: -1682954112.0000 - val_accuracy: 0.1164 - val_loss: -1800930048.0000\n",
      "Epoch 51/75\n",
      "\u001b[1m3539/3539\u001b[0m \u001b[32m━━━━━━━━━━━━━━━━━━━━\u001b[0m\u001b[37m\u001b[0m \u001b[1m12s\u001b[0m 3ms/step - accuracy: 0.1168 - loss: -1826053504.0000 - val_accuracy: 0.1164 - val_loss: -1937331456.0000\n",
      "Epoch 52/75\n",
      "\u001b[1m3539/3539\u001b[0m \u001b[32m━━━━━━━━━━━━━━━━━━━━\u001b[0m\u001b[37m\u001b[0m \u001b[1m11s\u001b[0m 3ms/step - accuracy: 0.1174 - loss: -1953269504.0000 - val_accuracy: 0.1164 - val_loss: -2080201984.0000\n",
      "Epoch 53/75\n",
      "\u001b[1m3539/3539\u001b[0m \u001b[32m━━━━━━━━━━━━━━━━━━━━\u001b[0m\u001b[37m\u001b[0m \u001b[1m9s\u001b[0m 3ms/step - accuracy: 0.1166 - loss: -2103788416.0000 - val_accuracy: 0.1164 - val_loss: -2229746176.0000\n",
      "Epoch 54/75\n",
      "\u001b[1m3539/3539\u001b[0m \u001b[32m━━━━━━━━━━━━━━━━━━━━\u001b[0m\u001b[37m\u001b[0m \u001b[1m10s\u001b[0m 3ms/step - accuracy: 0.1179 - loss: -2258454528.0000 - val_accuracy: 0.1164 - val_loss: -2386541056.0000\n",
      "Epoch 55/75\n",
      "\u001b[1m3539/3539\u001b[0m \u001b[32m━━━━━━━━━━━━━━━━━━━━\u001b[0m\u001b[37m\u001b[0m \u001b[1m10s\u001b[0m 3ms/step - accuracy: 0.1182 - loss: -2410908928.0000 - val_accuracy: 0.1164 - val_loss: -2550366464.0000\n",
      "Epoch 56/75\n",
      "\u001b[1m3539/3539\u001b[0m \u001b[32m━━━━━━━━━━━━━━━━━━━━\u001b[0m\u001b[37m\u001b[0m \u001b[1m9s\u001b[0m 3ms/step - accuracy: 0.1175 - loss: -2568702976.0000 - val_accuracy: 0.1164 - val_loss: -2721320704.0000\n",
      "Epoch 57/75\n",
      "\u001b[1m3539/3539\u001b[0m \u001b[32m━━━━━━━━━━━━━━━━━━━━\u001b[0m\u001b[37m\u001b[0m \u001b[1m9s\u001b[0m 3ms/step - accuracy: 0.1180 - loss: -2752503808.0000 - val_accuracy: 0.1164 - val_loss: -2899732736.0000\n",
      "Epoch 58/75\n",
      "\u001b[1m3539/3539\u001b[0m \u001b[32m━━━━━━━━━━━━━━━━━━━━\u001b[0m\u001b[37m\u001b[0m \u001b[1m9s\u001b[0m 3ms/step - accuracy: 0.1167 - loss: -2919205120.0000 - val_accuracy: 0.1164 - val_loss: -3085740288.0000\n",
      "Epoch 59/75\n",
      "\u001b[1m3539/3539\u001b[0m \u001b[32m━━━━━━━━━━━━━━━━━━━━\u001b[0m\u001b[37m\u001b[0m \u001b[1m10s\u001b[0m 3ms/step - accuracy: 0.1194 - loss: -3115137280.0000 - val_accuracy: 0.1164 - val_loss: -3279193600.0000\n",
      "Epoch 60/75\n",
      "\u001b[1m3539/3539\u001b[0m \u001b[32m━━━━━━━━━━━━━━━━━━━━\u001b[0m\u001b[37m\u001b[0m \u001b[1m9s\u001b[0m 3ms/step - accuracy: 0.1172 - loss: -3299480320.0000 - val_accuracy: 0.1164 - val_loss: -3480118272.0000\n",
      "Epoch 61/75\n",
      "\u001b[1m3539/3539\u001b[0m \u001b[32m━━━━━━━━━━━━━━━━━━━━\u001b[0m\u001b[37m\u001b[0m \u001b[1m10s\u001b[0m 3ms/step - accuracy: 0.1173 - loss: -3509853696.0000 - val_accuracy: 0.1164 - val_loss: -3689713408.0000\n",
      "Epoch 62/75\n",
      "\u001b[1m3539/3539\u001b[0m \u001b[32m━━━━━━━━━━━━━━━━━━━━\u001b[0m\u001b[37m\u001b[0m \u001b[1m12s\u001b[0m 3ms/step - accuracy: 0.1173 - loss: -3713153536.0000 - val_accuracy: 0.1164 - val_loss: -3907031040.0000\n",
      "Epoch 63/75\n",
      "\u001b[1m3539/3539\u001b[0m \u001b[32m━━━━━━━━━━━━━━━━━━━━\u001b[0m\u001b[37m\u001b[0m \u001b[1m9s\u001b[0m 2ms/step - accuracy: 0.1164 - loss: -3933228800.0000 - val_accuracy: 0.1164 - val_loss: -4132784896.0000\n",
      "Epoch 64/75\n",
      "\u001b[1m3539/3539\u001b[0m \u001b[32m━━━━━━━━━━━━━━━━━━━━\u001b[0m\u001b[37m\u001b[0m \u001b[1m10s\u001b[0m 3ms/step - accuracy: 0.1167 - loss: -4159671040.0000 - val_accuracy: 0.1164 - val_loss: -4366885888.0000\n",
      "Epoch 65/75\n",
      "\u001b[1m3539/3539\u001b[0m \u001b[32m━━━━━━━━━━━━━━━━━━━━\u001b[0m\u001b[37m\u001b[0m \u001b[1m10s\u001b[0m 3ms/step - accuracy: 0.1171 - loss: -4395825152.0000 - val_accuracy: 0.1164 - val_loss: -4609873920.0000\n",
      "Epoch 66/75\n",
      "\u001b[1m3539/3539\u001b[0m \u001b[32m━━━━━━━━━━━━━━━━━━━━\u001b[0m\u001b[37m\u001b[0m \u001b[1m11s\u001b[0m 3ms/step - accuracy: 0.1165 - loss: -4644203520.0000 - val_accuracy: 0.1164 - val_loss: -4861437440.0000\n",
      "Epoch 67/75\n",
      "\u001b[1m3539/3539\u001b[0m \u001b[32m━━━━━━━━━━━━━━━━━━━━\u001b[0m\u001b[37m\u001b[0m \u001b[1m14s\u001b[0m 4ms/step - accuracy: 0.1185 - loss: -4913984000.0000 - val_accuracy: 0.1164 - val_loss: -5121608704.0000\n",
      "Epoch 68/75\n",
      "\u001b[1m3539/3539\u001b[0m \u001b[32m━━━━━━━━━━━━━━━━━━━━\u001b[0m\u001b[37m\u001b[0m \u001b[1m12s\u001b[0m 3ms/step - accuracy: 0.1178 - loss: -5150001152.0000 - val_accuracy: 0.1164 - val_loss: -5391176704.0000\n",
      "Epoch 69/75\n",
      "\u001b[1m3539/3539\u001b[0m \u001b[32m━━━━━━━━━━━━━━━━━━━━\u001b[0m\u001b[37m\u001b[0m \u001b[1m11s\u001b[0m 3ms/step - accuracy: 0.1175 - loss: -5415330816.0000 - val_accuracy: 0.1164 - val_loss: -5669935104.0000\n",
      "Epoch 70/75\n",
      "\u001b[1m3539/3539\u001b[0m \u001b[32m━━━━━━━━━━━━━━━━━━━━\u001b[0m\u001b[37m\u001b[0m \u001b[1m12s\u001b[0m 3ms/step - accuracy: 0.1162 - loss: -5713380352.0000 - val_accuracy: 0.1164 - val_loss: -5957912576.0000\n",
      "Epoch 71/75\n",
      "\u001b[1m3539/3539\u001b[0m \u001b[32m━━━━━━━━━━━━━━━━━━━━\u001b[0m\u001b[37m\u001b[0m \u001b[1m20s\u001b[0m 3ms/step - accuracy: 0.1185 - loss: -5951109120.0000 - val_accuracy: 0.1164 - val_loss: -6255645696.0000\n",
      "Epoch 72/75\n",
      "\u001b[1m3539/3539\u001b[0m \u001b[32m━━━━━━━━━━━━━━━━━━━━\u001b[0m\u001b[37m\u001b[0m \u001b[1m22s\u001b[0m 4ms/step - accuracy: 0.1180 - loss: -6296251392.0000 - val_accuracy: 0.1164 - val_loss: -6562771968.0000\n",
      "Epoch 73/75\n",
      "\u001b[1m3539/3539\u001b[0m \u001b[32m━━━━━━━━━━━━━━━━━━━━\u001b[0m\u001b[37m\u001b[0m \u001b[1m12s\u001b[0m 3ms/step - accuracy: 0.1163 - loss: -6616917504.0000 - val_accuracy: 0.1164 - val_loss: -6879127040.0000\n",
      "Epoch 74/75\n",
      "\u001b[1m3539/3539\u001b[0m \u001b[32m━━━━━━━━━━━━━━━━━━━━\u001b[0m\u001b[37m\u001b[0m \u001b[1m11s\u001b[0m 3ms/step - accuracy: 0.1153 - loss: -6951834112.0000 - val_accuracy: 0.1164 - val_loss: -7205779968.0000\n",
      "Epoch 75/75\n",
      "\u001b[1m3539/3539\u001b[0m \u001b[32m━━━━━━━━━━━━━━━━━━━━\u001b[0m\u001b[37m\u001b[0m \u001b[1m12s\u001b[0m 3ms/step - accuracy: 0.1178 - loss: -7254845440.0000 - val_accuracy: 0.1164 - val_loss: -7543585280.0000\n"
     ]
    }
   ],
   "source": [
    "history = model.fit(X_train, y_train, epochs=75, verbose=1, validation_data=(X_test, y_test))"
   ]
  },
  {
   "cell_type": "markdown",
   "id": "9d10a7f1-b9c2-4a1a-9eb8-a4b9cea686b9",
   "metadata": {},
   "source": [
    "# 7.visualisation"
   ]
  },
  {
   "cell_type": "code",
   "execution_count": 12,
   "id": "67cdc071-4f1b-4ae8-95ec-247ca2ae457b",
   "metadata": {},
   "outputs": [
    {
     "data": {
      "text/plain": [
       "<keras.src.callbacks.history.History at 0x203a2468040>"
      ]
     },
     "execution_count": 12,
     "metadata": {},
     "output_type": "execute_result"
    }
   ],
   "source": [
    "history"
   ]
  },
  {
   "cell_type": "code",
   "execution_count": 13,
   "id": "f8b9fb33-97b6-4e5f-87c4-390193474cfd",
   "metadata": {},
   "outputs": [
    {
     "data": {
      "image/png": "[encoded data removed]",
      "text/plain": [
       "<Figure size 1500x600 with 1 Axes>"
      ]
     },
     "metadata": {},
     "output_type": "display_data"
    }
   ],
   "source": [
    "epoch_accuracy = history.history['accuracy']\n",
    "epoch_loss = history.history['loss']\n",
    "\n",
    "epoch_val_accuracy = history.history['val_accuracy']\n",
    "epoch_val_loss = history.history['val_loss']\n",
    "\n",
    "plt.figure(figsize=(15, 6))\n",
    "plt.plot(range(0, len(epoch_accuracy)), epoch_accuracy, color='blue', label='Training Accuracy')\n",
    "plt.plot(range(0, len(epoch_loss)), epoch_loss, color='red', label='Training Loss')\n",
    "plt.xlabel('Epochs')\n",
    "plt.ylabel('Valeur')\n",
    "plt.title('Accuracy Vs Loss')\n",
    "plt.legend()\n",
    "plt.plot()\n",
    "plt.show()"
   ]
  },
  {
   "cell_type": "code",
   "execution_count": 14,
   "id": "33a6f4bd-76e9-4e6e-b98e-fe3ee267216c",
   "metadata": {},
   "outputs": [
    {
     "data": {
      "image/png": "[encoded data removed]",
      "text/plain": [
       "<Figure size 1500x600 with 1 Axes>"
      ]
     },
     "metadata": {},
     "output_type": "display_data"
    }
   ],
   "source": [
    "plt.figure(figsize=(15, 6))\n",
    "plt.plot(range(0, len(epoch_accuracy)), epoch_accuracy, color='blue', label='Training Accuracy')\n",
    "plt.plot(range(0, len(epoch_val_accuracy)), epoch_val_accuracy, color='red', label='Test Loss')\n",
    "plt.xlabel('Epochs')\n",
    "plt.ylabel('Accuracy')\n",
    "plt.title('Training Accuracy Vs Test Accuracy')\n",
    "plt.legend()\n",
    "plt.plot()\n",
    "plt.show()"
   ]
  },
  {
   "cell_type": "code",
   "execution_count": 15,
   "id": "d4c690c8-23fa-42f8-a273-2b69b40cb6f5",
   "metadata": {},
   "outputs": [
    {
     "data": {
      "image/png": "[encoded data removed]",
      "text/plain": [
       "<Figure size 1500x600 with 1 Axes>"
      ]
     },
     "metadata": {},
     "output_type": "display_data"
    }
   ],
   "source": [
    "plt.figure(figsize=(15, 6))\n",
    "plt.plot(range(0, len(epoch_loss)), epoch_loss, color='blue', label='Training Loss')\n",
    "plt.plot(range(0, len(epoch_val_loss)), epoch_val_loss, color='red', label='Test Loss')\n",
    "plt.xlabel('Epochs')\n",
    "plt.ylabel('Loss')\n",
    "plt.title('Training Loss Vs Test Loss')\n",
    "plt.legend()\n",
    "plt.plot()\n",
    "plt.show()"
   ]
  },
  {
   "cell_type": "code",
   "execution_count": 16,
   "id": "e4d684f7-535a-4c37-8dd3-b49f4ebe5333",
   "metadata": {},
   "outputs": [
    {
     "name": "stdout",
     "output_type": "stream",
     "text": [
      "\u001b[1m885/885\u001b[0m \u001b[32m━━━━━━━━━━━━━━━━━━━━\u001b[0m\u001b[37m\u001b[0m \u001b[1m1s\u001b[0m 1ms/step - accuracy: 0.1120 - loss: -7578792448.0000\n"
     ]
    },
    {
     "data": {
      "text/plain": [
       "[-7543585280.0, 0.1164417415857315]"
      ]
     },
     "execution_count": 16,
     "metadata": {},
     "output_type": "execute_result"
    }
   ],
   "source": [
    "model.evaluate(X_test, y_test)"
   ]
  },
  {
   "cell_type": "code",
   "execution_count": null,
   "id": "6bbbde0b-c6f8-4e96-a921-51a78ad8e1a1",
   "metadata": {},
   "outputs": [],
   "source": []
  }
 ],
 "metadata": {
  "kernelspec": {
   "display_name": "Python 3 (ipykernel)",
   "language": "python",
   "name": "python3"
  },
  "language_info": {
   "codemirror_mode": {
    "name": "ipython",
    "version": 3
   },
   "file_extension": ".py",
   "mimetype": "text/x-python",
   "name": "python",
   "nbconvert_exporter": "python",
   "pygments_lexer": "ipython3",
   "version": "3.10.16"
  }
 },
 "nbformat": 4,
 "nbformat_minor": 5
}
